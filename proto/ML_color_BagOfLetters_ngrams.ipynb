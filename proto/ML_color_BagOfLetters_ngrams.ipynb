{
 "cells": [
  {
   "cell_type": "code",
   "execution_count": 26,
   "metadata": {
    "collapsed": false
   },
   "outputs": [
    {
     "name": "stderr",
     "output_type": "stream",
     "text": [
      "\u001b[1m\u001b[34mINFO: Precompiling module MultivariateStats.\n",
      "\u001b[0mWARNING: using MultivariateStats.transform in module Main conflicts with an existing identifier.\n"
     ]
    }
   ],
   "source": [
    "using NamedColors\n",
    "using Colors\n",
    "using ColorTypes\n",
    "using StatsBase\n",
    "using Learn\n",
    "using MLDataUtils\n",
    "using Iterators\n",
    "using MultivariateStats"
   ]
  },
  {
   "cell_type": "code",
   "execution_count": null,
   "metadata": {
    "collapsed": true
   },
   "outputs": [],
   "source": []
  },
  {
   "cell_type": "code",
   "execution_count": 28,
   "metadata": {
    "collapsed": false
   },
   "outputs": [
    {
     "name": "stderr",
     "output_type": "stream",
     "text": [
      "WARNING: redefining constant allowed_chars\n"
     ]
    },
    {
     "data": {
      "text/plain": [
       "Set(['d','q',' ','/','e','v','u','z','c','j'  …  's','n','f','i','y','x','r','o','w','k'])"
      ]
     },
     "execution_count": 28,
     "metadata": {},
     "output_type": "execute_result"
    }
   ],
   "source": [
    "const allowed_chars = Set(['a':'z'; '\\''; ' '; '/'])"
   ]
  },
  {
   "cell_type": "code",
   "execution_count": 29,
   "metadata": {
    "collapsed": false,
    "scrolled": true
   },
   "outputs": [
    {
     "data": {
      "text/plain": [
       "Dict{String,ColorTypes.RGB24} with 2721 entries:\n",
       "  \"maximum red\"        => RGB24{U8}(0.851,0.129,0.129)\n",
       "  \"grass green\"        => RGB24{U8}(0.247,0.608,0.043)\n",
       "  \"celery\"             => RGB24{U8}(0.757,0.992,0.584)\n",
       "  \"lipstick\"           => RGB24{U8}(0.671,0.02,0.388)\n",
       "  \"japanese maple\"     => RGB24{U8}(0.471,0.004,0.035)\n",
       "  \"darkorchid\"         => RGB24{U8}(0.6,0.196,0.8)\n",
       "  \"au chico\"           => RGB24{U8}(0.592,0.376,0.365)\n",
       "  \"laurel\"             => RGB24{U8}(0.455,0.576,0.471)\n",
       "  \"chocolate\"          => RGB24{U8}(0.216,0.008,0.008)\n",
       "  \"loulou\"             => RGB24{U8}(0.275,0.043,0.255)\n",
       "  \"fuzzy wuzzy\"        => RGB24{U8}(0.529,0.259,0.122)\n",
       "  \"astronaut\"          => RGB24{U8}(0.157,0.227,0.467)\n",
       "  \"ice cold\"           => RGB24{U8}(0.694,0.957,0.906)\n",
       "  \"floral white\"       => RGB24{U8}(1.0,0.98,0.941)\n",
       "  \"pesto\"              => RGB24{U8}(0.486,0.463,0.192)\n",
       "  \"purplishblack\"      => RGB24{U8}(0.141,0.129,0.141)\n",
       "  \"pine green\"         => RGB24{U8}(0.039,0.282,0.118)\n",
       "  \"judge grey\"         => RGB24{U8}(0.329,0.263,0.2)\n",
       "  \"half spanish white\" => RGB24{U8}(0.996,0.957,0.859)\n",
       "  \"dark brown\"         => RGB24{U8}(0.204,0.11,0.008)\n",
       "  \"nutmeg wood finish\" => RGB24{U8}(0.408,0.212,0.0)\n",
       "  \"twilight blue\"      => RGB24{U8}(0.933,0.992,1.0)\n",
       "  \"moderatepurple\"     => RGB24{U8}(0.525,0.376,0.557)\n",
       "  \"purple red\"         => RGB24{U8}(0.6,0.004,0.278)\n",
       "  \"santas grey\"        => RGB24{U8}(0.624,0.627,0.694)\n",
       "  ⋮                    => ⋮"
      ]
     },
     "execution_count": 29,
     "metadata": {},
     "output_type": "execute_result"
    }
   ],
   "source": [
    "mega_dict = merge(load_crayola(),\n",
    "                      load_resene(),\n",
    "                      load_nbs(),\n",
    "                      load_xkcd(),\n",
    "                      load_x11())\n",
    "test_training_dict=similar(mega_dict)\n",
    "for (kk, vv) in mega_dict\n",
    "    name = lowercase(kk)\n",
    "    length(setdiff( Set(name), allowed_chars)) > 0  && continue\n",
    "    test_training_dict[name] = vv\n",
    "end\n",
    "test_training_dict"
   ]
  },
  {
   "cell_type": "code",
   "execution_count": 30,
   "metadata": {
    "collapsed": false
   },
   "outputs": [
    {
     "name": "stderr",
     "output_type": "stream",
     "text": [
      "WARNING: Method definition encode_output(ColorTypes.Colorant) in module Main at In[23]:3 overwritten at In[30]:3.\n",
      "WARNING: Method definition decode_output(Any) in module Main at In[23]:8 overwritten at In[30]:8.\n"
     ]
    },
    {
     "data": {
      "text/plain": [
       "decode_output (generic function with 1 method)"
      ]
     },
     "execution_count": 30,
     "metadata": {},
     "output_type": "execute_result"
    }
   ],
   "source": [
    "function encode_output(raw::Colorant)\n",
    "    #Encoding Angles: http://stats.stackexchange.com/a/218547/36769\n",
    "    hsv = convert(HSV, raw)\n",
    "    [(sind(hsv.h)+1)/2, (cosd(hsv.h)+1)/2, hsv.s, hsv.v]\n",
    "end\n",
    "\n",
    "function decode_output(out)\n",
    "    hue = rad2deg(atan2(2out[1]-1, 2out[2]-1))\n",
    "    sat = out[3]\n",
    "    val = out[4]\n",
    "    HSV(hue, sat, val)\n",
    "end\n"
   ]
  },
  {
   "cell_type": "code",
   "execution_count": 31,
   "metadata": {
    "collapsed": false
   },
   "outputs": [
    {
     "name": "stderr",
     "output_type": "stream",
     "text": [
      "WARNING: Method definition char2index(Char) in module Main at In[24]:3 overwritten at In[31]:3.\n",
      "WARNING: Method definition ngram_encoder(Any, Any) in module Main at In[24]:23 overwritten at In[31]:23.\n",
      "\u001b[1m\u001b[31mWARNING: replacing docs for 'ngram_encoder :: Tuple{Any,Any}' in module 'Main'.\u001b[0m\n",
      "WARNING: Method definition encode_input(AbstractString) in module Main at In[24]:31 overwritten at In[31]:31.\n",
      "WARNING: Method definition #encode_input(Array{Any, 1}, Main.#encode_input, AbstractString) in module Main overwritten.\n"
     ]
    },
    {
     "data": {
      "text/plain": [
       "encode_input (generic function with 1 method)"
      ]
     },
     "execution_count": 31,
     "metadata": {},
     "output_type": "execute_result"
    }
   ],
   "source": [
    "const nchars = 26+2\n",
    "function char2index(c::Char)::Int\n",
    "    if c ∈ 'a':'z'\n",
    "        c-'a'\n",
    "    elseif c==' '\n",
    "        'z'+1\n",
    "    elseif c=='/'\n",
    "        'z'+2\n",
    "    elseif c=='\\''\n",
    "        'z'+3\n",
    "    else\n",
    "        error(\"$c is out of range\")\n",
    "    end\n",
    "end\n",
    "\n",
    "\"\"\"\n",
    "Builds a ngram_encoder, out of a alphabet encoder\n",
    "`n` the length of the ngrams\n",
    "`m` the length of the alphabet\n",
    "`alpha_encoder` must map the alphabet to the range 0:alphasize-1\n",
    "\"\"\"\n",
    "function ngram_encoder(alpha_encoder, alphasize)\n",
    "    function ngram_encoder_inner(alphastring)\n",
    "        n=length(alphastring)\n",
    "        n_ngrams = alphasize^n-1\n",
    "        alphasize.^(0:n-1)⋅alpha_encoder.(collect(alphastring))\n",
    "    end\n",
    "end\n",
    "\n",
    "function encode_input(name::AbstractString; n=2)\n",
    "    alphasize = 26+3\n",
    "    coder = ngram_encoder(char2index, alphasize)\n",
    "    \n",
    "    ngrams = partition(name, n, 1) |> collect\n",
    "    name_inds::Vector{Int} = coder.(ngrams)\n",
    "    counts(name_inds, alphasize^n)\n",
    "end"
   ]
  },
  {
   "cell_type": "code",
   "execution_count": 42,
   "metadata": {
    "collapsed": false
   },
   "outputs": [
    {
     "name": "stderr",
     "output_type": "stream",
     "text": [
      "WARNING: Method definition get_data(Any) in module Main at In[32]:3 overwritten at In[42]:3.\n"
     ]
    },
    {
     "data": {
      "text/plain": [
       "get_data (generic function with 1 method)"
      ]
     },
     "execution_count": 42,
     "metadata": {},
     "output_type": "execute_result"
    }
   ],
   "source": [
    "function get_data(data_dict)\n",
    "\n",
    "    colors = collect(values(data_dict))\n",
    "    ys = hcat(encode_output.(colors)...)\n",
    "    \n",
    "    names = collect(keys(data_dict))\n",
    "    xs = hcat(encode_input.(names)...).*1.0\n",
    "\n",
    "    #These could all be views, but PCA don't like that\n",
    "    x_train = xs[:, 1:9*end÷10]\n",
    "    y_train = ys[:, 1:9*end÷10]\n",
    "    x_test = xs[:,1+9*end÷10 : end]\n",
    "    y_test = ys[:,1+9*end÷10 : end]\n",
    "    \n",
    "    (x_train, y_train), (x_test, y_test)\n",
    "end\n"
   ]
  },
  {
   "cell_type": "code",
   "execution_count": 57,
   "metadata": {
    "collapsed": false
   },
   "outputs": [
    {
     "data": {
      "text/plain": [
       "full_encode_input (generic function with 1 method)"
      ]
     },
     "execution_count": 57,
     "metadata": {},
     "output_type": "execute_result"
    }
   ],
   "source": [
    "function full_encode_input(M::PCA, name::AbstractString)\n",
    "    x=encode_input(name)*1.0\n",
    "    MultivariateStats.transform(M,x)\n",
    "end"
   ]
  },
  {
   "cell_type": "code",
   "execution_count": 43,
   "metadata": {
    "collapsed": false
   },
   "outputs": [
    {
     "data": {
      "text/plain": [
       "((\n",
       "[-0.113588 -2.22179 … 0.425229 0.443863; -0.331308 -0.495611 … -0.318987 -0.110415; … ; -0.000409796 0.00596641 … -0.0509405 -0.040835; -0.00746094 0.000719227 … 0.0742557 0.0219216],\n",
       "\n",
       "Float32[0.5 0.994721 … 0.957656 0.799331; 1.0 0.427534 … 0.701373 0.900501; 0.847926 0.929032 … 0.197531 0.925373; 0.85098 0.607843 … 0.952941 0.52549]),(\n",
       "[0.433017 -1.35889 … 0.493951 0.458666; -0.385176 -0.154454 … -0.381923 -0.462611; … ; 0.13126 0.112774 … -0.0171019 -0.0109848; -0.0510445 0.0177422 … 0.0193203 -0.0425417],\n",
       "\n",
       "Float32[0.75 0.252875 … 0.691342 0.0173382; 0.933013 0.0653399 … 0.96194 0.630528; 0.121212 0.963415 … 0.125 0.79021; 0.647059 0.321569 … 0.25098 0.560784]))"
      ]
     },
     "execution_count": 43,
     "metadata": {},
     "output_type": "execute_result"
    }
   ],
   "source": [
    "(x_train, y_train), (x_test, y_test) = get_data(test_training_dict)\n",
    "M = fit(PCA, collect(x_train))#; maxoutdim=100)\n",
    "\n",
    "\n",
    "\n",
    "x_train_dr = MultivariateStats.transform(M,x_train)\n",
    "x_test_dr =  MultivariateStats.transform(M,x_test)\n",
    "(train,test) = (x_train_dr, y_train), (x_test_dr, y_test)"
   ]
  },
  {
   "cell_type": "code",
   "execution_count": 45,
   "metadata": {
    "collapsed": false
   },
   "outputs": [
    {
     "name": "stderr",
     "output_type": "stream",
     "text": [
      "WARNING: Method definition my_test_loss(Any, Any) in module Main at In[11]:2 overwritten at In[45]:2.\n"
     ]
    },
    {
     "data": {
      "text/plain": [
       "StochasticOptimization.IterFunction(#13)"
      ]
     },
     "execution_count": 45,
     "metadata": {},
     "output_type": "execute_result"
    }
   ],
   "source": [
    "function my_test_loss(obj, testdata)\n",
    "    totloss = 0.0\n",
    "    totcorrect = 0\n",
    "    for (x,y) in eachobs(testdata)\n",
    "        totloss += transform!(obj,y,x)\n",
    "    end\n",
    "    totloss#, totcorrect/totcount\n",
    "end\n",
    "\n",
    "\n",
    "tracer = IterFunction() do obj, i\n",
    "    if mod1(i,1000)==1000\n",
    "        totloss  = my_test_loss(obj, test)\n",
    "        println(i, \" totloss:  \", totloss)\n",
    "        #println(i, \" accuracy: \", accuracy)\n",
    "    end\n",
    "end\n"
   ]
  },
  {
   "cell_type": "code",
   "execution_count": 68,
   "metadata": {
    "collapsed": false
   },
   "outputs": [
    {
     "data": {
      "text/plain": [
       "ObjectiveFunctions.RegularizedObjective{Transformations.Chain{Float64,Transformations.Params{SubArray{Float64,1,Array{Float64,1},Tuple{UnitRange{Int64}},true},Tuple{},Tuple{}}},ObjectiveFunctions.LossTransform{Float64,LossFunctions.CrossentropyLoss},Penalties.ElasticNetPenalty{Float64}}(Chain{Float64}(\n",
       "   Affine{308-->100}\n",
       "   softplus{100}\n",
       "   Affine{100-->50}\n",
       "   softplus{50}\n",
       "   Affine{50-->4}\n",
       "   logistic{4}\n",
       ") ,ObjectiveFunctions.LossTransform{Float64,LossFunctions.CrossentropyLoss}(LossFunctions.CrossentropyLoss(),4,input(4,),target(4,),output(1,)),Penalties.ElasticNetPenalty{Float64}(1.0e-5,0.5))"
      ]
     },
     "execution_count": 68,
     "metadata": {},
     "output_type": "execute_result"
    }
   ],
   "source": [
    "nin, nh, nout = size(train[1],1), [100,50], size(train[2],1)\n",
    "t = nnet(nin, nout, nh, :softplus, :logistic)\n",
    "obj = objective(t, ElasticNetPenalty(1e-5))"
   ]
  },
  {
   "cell_type": "code",
   "execution_count": null,
   "metadata": {
    "collapsed": false
   },
   "outputs": [
    {
     "name": "stdout",
     "output_type": "stream",
     "text": [
      "1000 totloss:  689.3251360301238\n",
      "2000 totloss:  662.421913843605\n",
      "3000 totloss:  651.7005110807384\n",
      "4000 totloss:  662.0646111298684\n",
      "5000 totloss:  657.526558910904\n",
      "6000 totloss:  649.1826726229634\n",
      "7000 totloss:  655.9272274976371\n",
      "8000 totloss:  656.579723838186\n",
      "9000 totloss:  655.2514199081426\n",
      "10000 totloss:  653.0486983217468\n",
      "11000 totloss:  655.7827835012451\n",
      "12000 totloss:  659.5419084347171\n",
      "13000 totloss:  657.1112466061549\n",
      "14000 totloss:  656.4801992098115\n",
      "15000 totloss:  662.6702967495486\n",
      "16000 totloss:  660.5369423705812\n",
      "17000 totloss:  657.3447676693083\n",
      "18000 totloss:  672.1715732820178\n",
      "19000 totloss:  658.7626628447936\n",
      "20000 totloss:  666.3839124329943\n",
      "21000 totloss:  659.2240428821248\n",
      "22000 totloss:  662.9122089250316\n",
      "23000 totloss:  658.2127588732945\n",
      "24000 totloss:  661.214003812204\n",
      "25000 totloss:  658.3234921753344\n",
      "26000 totloss:  662.1875340779209\n",
      "27000 totloss:  663.9164988648754\n",
      "28000 totloss:  669.0530400126092\n",
      "29000 totloss:  668.2882571218045\n",
      "30000 totloss:  670.2915027970323\n",
      "31000 totloss:  667.3117402195138\n"
     ]
    }
   ],
   "source": [
    "learner = make_learner(\n",
    "    GradientLearner(5e-2, Adadelta()),\n",
    "    tracer,\n",
    "    maxiter = 50_000\n",
    ")\n",
    "learn!(obj, learner, infinite_batches(train, size=5))"
   ]
  },
  {
   "cell_type": "code",
   "execution_count": null,
   "metadata": {
    "collapsed": false
   },
   "outputs": [],
   "source": [
    "full_encode_input(M,\"hyperblue\")"
   ]
  },
  {
   "cell_type": "code",
   "execution_count": 70,
   "metadata": {
    "collapsed": false
   },
   "outputs": [
    {
     "name": "stderr",
     "output_type": "stream",
     "text": [
      "WARNING: Method definition get_colour(Any, Any, Any) in module Main at In[64]:2 overwritten at In[70]:2.\n",
      "WARNING: Method definition get_colour(Any) in module Main at In[64]:5 overwritten at In[70]:5.\n",
      "WARNING: Method definition display_colour(Any, Any, Any) in module Main at In[64]:9 overwritten at In[70]:9.\n",
      "WARNING: Method definition display_colour(Any) in module Main at In[64]:13 overwritten at In[70]:13.\n"
     ]
    },
    {
     "data": {
      "text/plain": [
       "display_colour (generic function with 3 methods)"
      ]
     },
     "execution_count": 70,
     "metadata": {},
     "output_type": "execute_result"
    }
   ],
   "source": [
    "function get_colour(obj, M, name)\n",
    "    x = full_encode_input(M,name)\n",
    "    decode_output( output_value(obj.transformation ))\n",
    "end\n",
    "get_colour(name) = get_colour(obj, M, name)\n",
    "\n",
    "\n",
    "function display_colour(obj, M,name)\n",
    "    display(name)\n",
    "    display(get_colour(obj, M, name))\n",
    "    display(\"-\"^16)\n",
    "end\n",
    "display_colour(name)=display_colour(obj, M,name)"
   ]
  },
  {
   "cell_type": "code",
   "execution_count": 72,
   "metadata": {
    "collapsed": false
   },
   "outputs": [
    {
     "data": {
      "text/plain": [
       "\"green\""
      ]
     },
     "metadata": {},
     "output_type": "display_data"
    },
    {
     "data": {
      "image/svg+xml": [
       "<?xml version\"1.0\" encoding=\"UTF-8\"?>\n",
       "<!DOCTYPE svg PUBLIC \"-//W3C//DTD SVG 1.1//EN\"\n",
       " \"http://www.w3.org/Graphics/SVG/1.1/DTD/svg11.dtd\">\n",
       "<svg xmlns=\"http://www.w3.org/2000/svg\" version=\"1.1\"\n",
       "     width=\"25mm\" height=\"25mm\" viewBox=\"0 0 1 1\">\n",
       "     <rect width=\"1\" height=\"1\"\n",
       "           fill=\"#71D9B4\" stroke=\"none\"/>\n",
       "</svg>\n"
      ],
      "text/plain": [
       "HSV{Float64}(158.32207346309414,0.47805629679833844,0.8513504299122816)"
      ]
     },
     "metadata": {},
     "output_type": "display_data"
    },
    {
     "data": {
      "text/plain": [
       "\"----------------\""
      ]
     },
     "metadata": {},
     "output_type": "display_data"
    },
    {
     "data": {
      "text/plain": [
       "\"red\""
      ]
     },
     "metadata": {},
     "output_type": "display_data"
    },
    {
     "data": {
      "image/svg+xml": [
       "<?xml version\"1.0\" encoding=\"UTF-8\"?>\n",
       "<!DOCTYPE svg PUBLIC \"-//W3C//DTD SVG 1.1//EN\"\n",
       " \"http://www.w3.org/Graphics/SVG/1.1/DTD/svg11.dtd\">\n",
       "<svg xmlns=\"http://www.w3.org/2000/svg\" version=\"1.1\"\n",
       "     width=\"25mm\" height=\"25mm\" viewBox=\"0 0 1 1\">\n",
       "     <rect width=\"1\" height=\"1\"\n",
       "           fill=\"#71D9B4\" stroke=\"none\"/>\n",
       "</svg>\n"
      ],
      "text/plain": [
       "HSV{Float64}(158.32207346309414,0.47805629679833844,0.8513504299122816)"
      ]
     },
     "metadata": {},
     "output_type": "display_data"
    },
    {
     "data": {
      "text/plain": [
       "\"----------------\""
      ]
     },
     "metadata": {},
     "output_type": "display_data"
    },
    {
     "data": {
      "text/plain": [
       "\"lightred\""
      ]
     },
     "metadata": {},
     "output_type": "display_data"
    },
    {
     "data": {
      "image/svg+xml": [
       "<?xml version\"1.0\" encoding=\"UTF-8\"?>\n",
       "<!DOCTYPE svg PUBLIC \"-//W3C//DTD SVG 1.1//EN\"\n",
       " \"http://www.w3.org/Graphics/SVG/1.1/DTD/svg11.dtd\">\n",
       "<svg xmlns=\"http://www.w3.org/2000/svg\" version=\"1.1\"\n",
       "     width=\"25mm\" height=\"25mm\" viewBox=\"0 0 1 1\">\n",
       "     <rect width=\"1\" height=\"1\"\n",
       "           fill=\"#71D9B4\" stroke=\"none\"/>\n",
       "</svg>\n"
      ],
      "text/plain": [
       "HSV{Float64}(158.32207346309414,0.47805629679833844,0.8513504299122816)"
      ]
     },
     "metadata": {},
     "output_type": "display_data"
    },
    {
     "data": {
      "text/plain": [
       "\"----------------\""
      ]
     },
     "metadata": {},
     "output_type": "display_data"
    },
    {
     "data": {
      "text/plain": [
       "\"dirtyred\""
      ]
     },
     "metadata": {},
     "output_type": "display_data"
    },
    {
     "data": {
      "image/svg+xml": [
       "<?xml version\"1.0\" encoding=\"UTF-8\"?>\n",
       "<!DOCTYPE svg PUBLIC \"-//W3C//DTD SVG 1.1//EN\"\n",
       " \"http://www.w3.org/Graphics/SVG/1.1/DTD/svg11.dtd\">\n",
       "<svg xmlns=\"http://www.w3.org/2000/svg\" version=\"1.1\"\n",
       "     width=\"25mm\" height=\"25mm\" viewBox=\"0 0 1 1\">\n",
       "     <rect width=\"1\" height=\"1\"\n",
       "           fill=\"#71D9B4\" stroke=\"none\"/>\n",
       "</svg>\n"
      ],
      "text/plain": [
       "HSV{Float64}(158.32207346309414,0.47805629679833844,0.8513504299122816)"
      ]
     },
     "metadata": {},
     "output_type": "display_data"
    },
    {
     "data": {
      "text/plain": [
       "\"----------------\""
      ]
     },
     "metadata": {},
     "output_type": "display_data"
    },
    {
     "data": {
      "text/plain": [
       "\"lightredishblue\""
      ]
     },
     "metadata": {},
     "output_type": "display_data"
    },
    {
     "data": {
      "image/svg+xml": [
       "<?xml version\"1.0\" encoding=\"UTF-8\"?>\n",
       "<!DOCTYPE svg PUBLIC \"-//W3C//DTD SVG 1.1//EN\"\n",
       " \"http://www.w3.org/Graphics/SVG/1.1/DTD/svg11.dtd\">\n",
       "<svg xmlns=\"http://www.w3.org/2000/svg\" version=\"1.1\"\n",
       "     width=\"25mm\" height=\"25mm\" viewBox=\"0 0 1 1\">\n",
       "     <rect width=\"1\" height=\"1\"\n",
       "           fill=\"#71D9B4\" stroke=\"none\"/>\n",
       "</svg>\n"
      ],
      "text/plain": [
       "HSV{Float64}(158.32207346309414,0.47805629679833844,0.8513504299122816)"
      ]
     },
     "metadata": {},
     "output_type": "display_data"
    },
    {
     "data": {
      "text/plain": [
       "\"----------------\""
      ]
     },
     "metadata": {},
     "output_type": "display_data"
    },
    {
     "data": {
      "text/plain": [
       "\"bluish red\""
      ]
     },
     "metadata": {},
     "output_type": "display_data"
    },
    {
     "data": {
      "image/svg+xml": [
       "<?xml version\"1.0\" encoding=\"UTF-8\"?>\n",
       "<!DOCTYPE svg PUBLIC \"-//W3C//DTD SVG 1.1//EN\"\n",
       " \"http://www.w3.org/Graphics/SVG/1.1/DTD/svg11.dtd\">\n",
       "<svg xmlns=\"http://www.w3.org/2000/svg\" version=\"1.1\"\n",
       "     width=\"25mm\" height=\"25mm\" viewBox=\"0 0 1 1\">\n",
       "     <rect width=\"1\" height=\"1\"\n",
       "           fill=\"#71D9B4\" stroke=\"none\"/>\n",
       "</svg>\n"
      ],
      "text/plain": [
       "HSV{Float64}(158.32207346309414,0.47805629679833844,0.8513504299122816)"
      ]
     },
     "metadata": {},
     "output_type": "display_data"
    },
    {
     "data": {
      "text/plain": [
       "\"----------------\""
      ]
     },
     "metadata": {},
     "output_type": "display_data"
    },
    {
     "data": {
      "text/plain": [
       "\"blue\""
      ]
     },
     "metadata": {},
     "output_type": "display_data"
    },
    {
     "data": {
      "image/svg+xml": [
       "<?xml version\"1.0\" encoding=\"UTF-8\"?>\n",
       "<!DOCTYPE svg PUBLIC \"-//W3C//DTD SVG 1.1//EN\"\n",
       " \"http://www.w3.org/Graphics/SVG/1.1/DTD/svg11.dtd\">\n",
       "<svg xmlns=\"http://www.w3.org/2000/svg\" version=\"1.1\"\n",
       "     width=\"25mm\" height=\"25mm\" viewBox=\"0 0 1 1\">\n",
       "     <rect width=\"1\" height=\"1\"\n",
       "           fill=\"#71D9B4\" stroke=\"none\"/>\n",
       "</svg>\n"
      ],
      "text/plain": [
       "HSV{Float64}(158.32207346309414,0.47805629679833844,0.8513504299122816)"
      ]
     },
     "metadata": {},
     "output_type": "display_data"
    },
    {
     "data": {
      "text/plain": [
       "\"----------------\""
      ]
     },
     "metadata": {},
     "output_type": "display_data"
    },
    {
     "data": {
      "text/plain": [
       "\"light blue\""
      ]
     },
     "metadata": {},
     "output_type": "display_data"
    },
    {
     "data": {
      "image/svg+xml": [
       "<?xml version\"1.0\" encoding=\"UTF-8\"?>\n",
       "<!DOCTYPE svg PUBLIC \"-//W3C//DTD SVG 1.1//EN\"\n",
       " \"http://www.w3.org/Graphics/SVG/1.1/DTD/svg11.dtd\">\n",
       "<svg xmlns=\"http://www.w3.org/2000/svg\" version=\"1.1\"\n",
       "     width=\"25mm\" height=\"25mm\" viewBox=\"0 0 1 1\">\n",
       "     <rect width=\"1\" height=\"1\"\n",
       "           fill=\"#71D9B4\" stroke=\"none\"/>\n",
       "</svg>\n"
      ],
      "text/plain": [
       "HSV{Float64}(158.32207346309414,0.47805629679833844,0.8513504299122816)"
      ]
     },
     "metadata": {},
     "output_type": "display_data"
    },
    {
     "data": {
      "text/plain": [
       "\"----------------\""
      ]
     },
     "metadata": {},
     "output_type": "display_data"
    },
    {
     "data": {
      "text/plain": [
       "\"lightred\""
      ]
     },
     "metadata": {},
     "output_type": "display_data"
    },
    {
     "data": {
      "image/svg+xml": [
       "<?xml version\"1.0\" encoding=\"UTF-8\"?>\n",
       "<!DOCTYPE svg PUBLIC \"-//W3C//DTD SVG 1.1//EN\"\n",
       " \"http://www.w3.org/Graphics/SVG/1.1/DTD/svg11.dtd\">\n",
       "<svg xmlns=\"http://www.w3.org/2000/svg\" version=\"1.1\"\n",
       "     width=\"25mm\" height=\"25mm\" viewBox=\"0 0 1 1\">\n",
       "     <rect width=\"1\" height=\"1\"\n",
       "           fill=\"#71D9B4\" stroke=\"none\"/>\n",
       "</svg>\n"
      ],
      "text/plain": [
       "HSV{Float64}(158.32207346309414,0.47805629679833844,0.8513504299122816)"
      ]
     },
     "metadata": {},
     "output_type": "display_data"
    },
    {
     "data": {
      "text/plain": [
       "\"----------------\""
      ]
     },
     "metadata": {},
     "output_type": "display_data"
    }
   ],
   "source": [
    "display_colour(\"green\")\n",
    "display_colour(\"red\")\n",
    "display_colour(\"lightred\")\n",
    "display_colour(\"dirtyred\")\n",
    "display_colour(\"lightredishblue\")\n",
    "display_colour(\"bluish red\")\n",
    "display_colour(\"blue\")\n",
    "display_colour(\"light blue\")\n",
    "display_colour(\"lightred\")\n",
    " \n"
   ]
  },
  {
   "cell_type": "code",
   "execution_count": 73,
   "metadata": {
    "collapsed": false
   },
   "outputs": [
    {
     "data": {
      "text/plain": [
       "\"hot pink\""
      ]
     },
     "metadata": {},
     "output_type": "display_data"
    },
    {
     "data": {
      "image/svg+xml": [
       "<?xml version\"1.0\" encoding=\"UTF-8\"?>\n",
       "<!DOCTYPE svg PUBLIC \"-//W3C//DTD SVG 1.1//EN\"\n",
       " \"http://www.w3.org/Graphics/SVG/1.1/DTD/svg11.dtd\">\n",
       "<svg xmlns=\"http://www.w3.org/2000/svg\" version=\"1.1\"\n",
       "     width=\"25mm\" height=\"25mm\" viewBox=\"0 0 1 1\">\n",
       "     <rect width=\"1\" height=\"1\"\n",
       "           fill=\"#71D9B4\" stroke=\"none\"/>\n",
       "</svg>\n"
      ],
      "text/plain": [
       "HSV{Float64}(158.32207346309414,0.47805629679833844,0.8513504299122816)"
      ]
     },
     "metadata": {},
     "output_type": "display_data"
    },
    {
     "data": {
      "text/plain": [
       "\"----------------\""
      ]
     },
     "metadata": {},
     "output_type": "display_data"
    },
    {
     "data": {
      "text/plain": [
       "\"hot blue\""
      ]
     },
     "metadata": {},
     "output_type": "display_data"
    },
    {
     "data": {
      "image/svg+xml": [
       "<?xml version\"1.0\" encoding=\"UTF-8\"?>\n",
       "<!DOCTYPE svg PUBLIC \"-//W3C//DTD SVG 1.1//EN\"\n",
       " \"http://www.w3.org/Graphics/SVG/1.1/DTD/svg11.dtd\">\n",
       "<svg xmlns=\"http://www.w3.org/2000/svg\" version=\"1.1\"\n",
       "     width=\"25mm\" height=\"25mm\" viewBox=\"0 0 1 1\">\n",
       "     <rect width=\"1\" height=\"1\"\n",
       "           fill=\"#71D9B4\" stroke=\"none\"/>\n",
       "</svg>\n"
      ],
      "text/plain": [
       "HSV{Float64}(158.32207346309414,0.47805629679833844,0.8513504299122816)"
      ]
     },
     "metadata": {},
     "output_type": "display_data"
    },
    {
     "data": {
      "text/plain": [
       "\"----------------\""
      ]
     },
     "metadata": {},
     "output_type": "display_data"
    },
    {
     "data": {
      "text/plain": [
       "\"hot green\""
      ]
     },
     "metadata": {},
     "output_type": "display_data"
    },
    {
     "data": {
      "image/svg+xml": [
       "<?xml version\"1.0\" encoding=\"UTF-8\"?>\n",
       "<!DOCTYPE svg PUBLIC \"-//W3C//DTD SVG 1.1//EN\"\n",
       " \"http://www.w3.org/Graphics/SVG/1.1/DTD/svg11.dtd\">\n",
       "<svg xmlns=\"http://www.w3.org/2000/svg\" version=\"1.1\"\n",
       "     width=\"25mm\" height=\"25mm\" viewBox=\"0 0 1 1\">\n",
       "     <rect width=\"1\" height=\"1\"\n",
       "           fill=\"#71D9B4\" stroke=\"none\"/>\n",
       "</svg>\n"
      ],
      "text/plain": [
       "HSV{Float64}(158.32207346309414,0.47805629679833844,0.8513504299122816)"
      ]
     },
     "metadata": {},
     "output_type": "display_data"
    },
    {
     "data": {
      "text/plain": [
       "\"----------------\""
      ]
     },
     "metadata": {},
     "output_type": "display_data"
    },
    {
     "data": {
      "text/plain": [
       "\"dark blue\""
      ]
     },
     "metadata": {},
     "output_type": "display_data"
    },
    {
     "data": {
      "image/svg+xml": [
       "<?xml version\"1.0\" encoding=\"UTF-8\"?>\n",
       "<!DOCTYPE svg PUBLIC \"-//W3C//DTD SVG 1.1//EN\"\n",
       " \"http://www.w3.org/Graphics/SVG/1.1/DTD/svg11.dtd\">\n",
       "<svg xmlns=\"http://www.w3.org/2000/svg\" version=\"1.1\"\n",
       "     width=\"25mm\" height=\"25mm\" viewBox=\"0 0 1 1\">\n",
       "     <rect width=\"1\" height=\"1\"\n",
       "           fill=\"#71D9B4\" stroke=\"none\"/>\n",
       "</svg>\n"
      ],
      "text/plain": [
       "HSV{Float64}(158.32207346309414,0.47805629679833844,0.8513504299122816)"
      ]
     },
     "metadata": {},
     "output_type": "display_data"
    },
    {
     "data": {
      "text/plain": [
       "\"----------------\""
      ]
     },
     "metadata": {},
     "output_type": "display_data"
    },
    {
     "data": {
      "text/plain": [
       "\"light black\""
      ]
     },
     "metadata": {},
     "output_type": "display_data"
    },
    {
     "data": {
      "image/svg+xml": [
       "<?xml version\"1.0\" encoding=\"UTF-8\"?>\n",
       "<!DOCTYPE svg PUBLIC \"-//W3C//DTD SVG 1.1//EN\"\n",
       " \"http://www.w3.org/Graphics/SVG/1.1/DTD/svg11.dtd\">\n",
       "<svg xmlns=\"http://www.w3.org/2000/svg\" version=\"1.1\"\n",
       "     width=\"25mm\" height=\"25mm\" viewBox=\"0 0 1 1\">\n",
       "     <rect width=\"1\" height=\"1\"\n",
       "           fill=\"#71D9B4\" stroke=\"none\"/>\n",
       "</svg>\n"
      ],
      "text/plain": [
       "HSV{Float64}(158.32207346309414,0.47805629679833844,0.8513504299122816)"
      ]
     },
     "metadata": {},
     "output_type": "display_data"
    },
    {
     "data": {
      "text/plain": [
       "\"----------------\""
      ]
     },
     "metadata": {},
     "output_type": "display_data"
    },
    {
     "data": {
      "text/plain": [
       "\"black\""
      ]
     },
     "metadata": {},
     "output_type": "display_data"
    },
    {
     "data": {
      "image/svg+xml": [
       "<?xml version\"1.0\" encoding=\"UTF-8\"?>\n",
       "<!DOCTYPE svg PUBLIC \"-//W3C//DTD SVG 1.1//EN\"\n",
       " \"http://www.w3.org/Graphics/SVG/1.1/DTD/svg11.dtd\">\n",
       "<svg xmlns=\"http://www.w3.org/2000/svg\" version=\"1.1\"\n",
       "     width=\"25mm\" height=\"25mm\" viewBox=\"0 0 1 1\">\n",
       "     <rect width=\"1\" height=\"1\"\n",
       "           fill=\"#71D9B4\" stroke=\"none\"/>\n",
       "</svg>\n"
      ],
      "text/plain": [
       "HSV{Float64}(158.32207346309414,0.47805629679833844,0.8513504299122816)"
      ]
     },
     "metadata": {},
     "output_type": "display_data"
    },
    {
     "data": {
      "text/plain": [
       "\"----------------\""
      ]
     },
     "metadata": {},
     "output_type": "display_data"
    },
    {
     "data": {
      "text/plain": [
       "\"dark black\""
      ]
     },
     "metadata": {},
     "output_type": "display_data"
    },
    {
     "data": {
      "image/svg+xml": [
       "<?xml version\"1.0\" encoding=\"UTF-8\"?>\n",
       "<!DOCTYPE svg PUBLIC \"-//W3C//DTD SVG 1.1//EN\"\n",
       " \"http://www.w3.org/Graphics/SVG/1.1/DTD/svg11.dtd\">\n",
       "<svg xmlns=\"http://www.w3.org/2000/svg\" version=\"1.1\"\n",
       "     width=\"25mm\" height=\"25mm\" viewBox=\"0 0 1 1\">\n",
       "     <rect width=\"1\" height=\"1\"\n",
       "           fill=\"#71D9B4\" stroke=\"none\"/>\n",
       "</svg>\n"
      ],
      "text/plain": [
       "HSV{Float64}(158.32207346309414,0.47805629679833844,0.8513504299122816)"
      ]
     },
     "metadata": {},
     "output_type": "display_data"
    },
    {
     "data": {
      "text/plain": [
       "\"----------------\""
      ]
     },
     "metadata": {},
     "output_type": "display_data"
    }
   ],
   "source": [
    "display_colour(\"hot pink\")\n",
    "display_colour(\"hot blue\")\n",
    "display_colour(\"hot green\")\n",
    "display_colour(\"dark blue\")\n",
    "display_colour(\"light black\")\n",
    "display_colour(\"black\")\n",
    "display_colour(\"dark black\")"
   ]
  },
  {
   "cell_type": "code",
   "execution_count": null,
   "metadata": {
    "collapsed": false
   },
   "outputs": [],
   "source": [
    "for letter in ['a':'z'; ' '; '\\''; '/']\n",
    "    display_colour(obj, string(letter))\n",
    "end"
   ]
  },
  {
   "cell_type": "code",
   "execution_count": null,
   "metadata": {
    "collapsed": false
   },
   "outputs": [],
   "source": [
    "for letter1 in ['a':'z'; ' '; '\\''; '/']\n",
    "    for letter2 in ['a':'z'; ' '; '\\''; '/']\n",
    "        display_colour(obj, join([letter1,letter2]))\n",
    "    end\n",
    "end"
   ]
  },
  {
   "cell_type": "code",
   "execution_count": null,
   "metadata": {
    "collapsed": false
   },
   "outputs": [],
   "source": [
    "1+1"
   ]
  },
  {
   "cell_type": "code",
   "execution_count": null,
   "metadata": {
    "collapsed": true
   },
   "outputs": [],
   "source": []
  }
 ],
 "metadata": {
  "kernelspec": {
   "display_name": "Julia 0.5.0",
   "language": "julia",
   "name": "julia-0.5"
  },
  "language_info": {
   "file_extension": ".jl",
   "mimetype": "application/julia",
   "name": "julia",
   "version": "0.5.0"
  }
 },
 "nbformat": 4,
 "nbformat_minor": 0
}
