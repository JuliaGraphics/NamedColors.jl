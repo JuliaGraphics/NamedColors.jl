{
 "cells": [
  {
   "cell_type": "code",
   "execution_count": 6,
   "metadata": {
    "collapsed": false
   },
   "outputs": [
    {
     "name": "stderr",
     "output_type": "stream",
     "text": [
      "INFO: Precompiling module GR...\n"
     ]
    },
    {
     "data": {
      "text/plain": [
       "Plots.GRBackend()"
      ]
     },
     "execution_count": 6,
     "metadata": {},
     "output_type": "execute_result"
    }
   ],
   "source": [
    "using Plots\n",
    "gr()"
   ]
  },
  {
   "cell_type": "code",
   "execution_count": 2,
   "metadata": {
    "collapsed": false,
    "scrolled": true
   },
   "outputs": [],
   "source": [
    "using NamedColors\n",
    "const xkcd = load_xkcd();"
   ]
  },
  {
   "cell_type": "code",
   "execution_count": 3,
   "metadata": {
    "collapsed": false
   },
   "outputs": [
    {
     "data": {
      "text/plain": [
       "Dict{SubString{String},ColorTypes.RGB24} with 5 entries:\n",
       "  \"midnight blue\"     => RGB24{U8}(0.008,0.0,0.208)\n",
       "  \"very light purple\" => RGB24{U8}(0.965,0.808,0.988)\n",
       "  \"camo green\"        => RGB24{U8}(0.322,0.396,0.145)\n",
       "  \"toupe\"             => RGB24{U8}(0.78,0.675,0.49)\n",
       "  \"grape purple\"      => RGB24{U8}(0.365,0.078,0.318)"
      ]
     },
     "execution_count": 3,
     "metadata": {},
     "output_type": "execute_result"
    }
   ],
   "source": [
    "function rand_subdict(dict::Associative, len::Integer)\n",
    "    keep_keys = rand(collect(keys(dict)), len)\n",
    "    Dict(zip(keep_keys, getindex.([dict], keep_keys))) \n",
    "end\n",
    "sample_size=5\n",
    "crayola_sample = rand_subdict(load_crayola(), sample_size)\n",
    "css3_sample = rand_subdict(load_css3(), sample_size)\n",
    "nbs_sample = rand_subdict(load_nbs(), sample_size)\n",
    "resene_sample = rand_subdict(load_resene(), sample_size)\n",
    "xkcd_sample = rand_subdict(xkcd, sample_size)"
   ]
  },
  {
   "cell_type": "code",
   "execution_count": 41,
   "metadata": {
    "collapsed": false
   },
   "outputs": [
    {
     "data": {
      "text/html": [
       "<?xml version=\"1.0\" encoding=\"utf-8\"?>\n",
       "<svg xmlns=\"http://www.w3.org/2000/svg\" xmlns:xlink=\"http://www.w3.org/1999/xlink\" width=\"600\" height=\"400\" viewBox=\"0 0 600 400\">\n",
       "<defs>\n",
       "  <clipPath id=\"clip00\">\n",
       "    <rect x=\"0\" y=\"0\" width=\"600\" height=\"400\"/>\n",
       "  </clipPath>\n",
       "</defs>\n",
       "<polygon clip-path=\"url(#clip00)\" points=\"\n",
       "0,400 600,400 600,0 0,0 \n",
       "  \" fill=\"#ffffff\" fill-opacity=\"1\"/>\n",
       "<defs>\n",
       "  <clipPath id=\"clip01\">\n",
       "    <rect x=\"120\" y=\"0\" width=\"421\" height=\"400\"/>\n",
       "  </clipPath>\n",
       "</defs>\n",
       "<polygon clip-path=\"url(#clip00)\" points=\"\n",
       "16.7629,381.015 596.063,381.015 596.063,23.3815 16.7629,23.3815 \n",
       "  \" fill=\"#ffffff\" fill-opacity=\"1\"/>\n",
       "<defs>\n",
       "  <clipPath id=\"clip02\">\n",
       "    <rect x=\"16\" y=\"23\" width=\"580\" height=\"358\"/>\n",
       "  </clipPath>\n",
       "</defs>\n",
       "<polyline clip-path=\"url(#clip02)\" style=\"stroke:#00002d; stroke-width:0.8; stroke-opacity:0.5; fill:none\" stroke-dasharray=\"1, 2\" points=\"\n",
       "  33.1582,375.65 33.1582,28.746 \n",
       "  \"/>\n",
       "<polyline clip-path=\"url(#clip02)\" style=\"stroke:#00002d; stroke-width:0.8; stroke-opacity:0.5; fill:none\" stroke-dasharray=\"1, 2\" points=\"\n",
       "  169.786,375.65 169.786,28.746 \n",
       "  \"/>\n",
       "<polyline clip-path=\"url(#clip02)\" style=\"stroke:#00002d; stroke-width:0.8; stroke-opacity:0.5; fill:none\" stroke-dasharray=\"1, 2\" points=\"\n",
       "  306.413,375.65 306.413,28.746 \n",
       "  \"/>\n",
       "<polyline clip-path=\"url(#clip02)\" style=\"stroke:#00002d; stroke-width:0.8; stroke-opacity:0.5; fill:none\" stroke-dasharray=\"1, 2\" points=\"\n",
       "  443.04,375.65 443.04,28.746 \n",
       "  \"/>\n",
       "<polyline clip-path=\"url(#clip02)\" style=\"stroke:#00002d; stroke-width:0.8; stroke-opacity:0.5; fill:none\" stroke-dasharray=\"1, 2\" points=\"\n",
       "  579.668,375.65 579.668,28.746 \n",
       "  \"/>\n",
       "<polyline clip-path=\"url(#clip02)\" style=\"stroke:#00002d; stroke-width:0.8; stroke-opacity:0.5; fill:none\" stroke-dasharray=\"1, 2\" points=\"\n",
       "  25.4524,370.893 587.373,370.893 \n",
       "  \"/>\n",
       "<polyline clip-path=\"url(#clip02)\" style=\"stroke:#00002d; stroke-width:0.8; stroke-opacity:0.5; fill:none\" stroke-dasharray=\"1, 2\" points=\"\n",
       "  25.4524,286.546 587.373,286.546 \n",
       "  \"/>\n",
       "<polyline clip-path=\"url(#clip02)\" style=\"stroke:#00002d; stroke-width:0.8; stroke-opacity:0.5; fill:none\" stroke-dasharray=\"1, 2\" points=\"\n",
       "  25.4524,202.198 587.373,202.198 \n",
       "  \"/>\n",
       "<polyline clip-path=\"url(#clip02)\" style=\"stroke:#00002d; stroke-width:0.8; stroke-opacity:0.5; fill:none\" stroke-dasharray=\"1, 2\" points=\"\n",
       "  25.4524,117.851 587.373,117.851 \n",
       "  \"/>\n",
       "<polyline clip-path=\"url(#clip02)\" style=\"stroke:#00002d; stroke-width:0.8; stroke-opacity:0.5; fill:none\" stroke-dasharray=\"1, 2\" points=\"\n",
       "  25.4524,33.5032 587.373,33.5032 \n",
       "  \"/>\n",
       "<polyline clip-path=\"url(#clip02)\" style=\"stroke:#00002d; stroke-width:0.8; stroke-opacity:1; fill:none\" points=\"\n",
       "  16.7629,381.015 596.063,381.015 \n",
       "  \"/>\n",
       "<polyline clip-path=\"url(#clip02)\" style=\"stroke:#00002d; stroke-width:0.8; stroke-opacity:1; fill:none\" points=\"\n",
       "  33.1582,381.015 33.1582,375.65 \n",
       "  \"/>\n",
       "<polyline clip-path=\"url(#clip02)\" style=\"stroke:#00002d; stroke-width:0.8; stroke-opacity:1; fill:none\" points=\"\n",
       "  169.786,381.015 169.786,375.65 \n",
       "  \"/>\n",
       "<polyline clip-path=\"url(#clip02)\" style=\"stroke:#00002d; stroke-width:0.8; stroke-opacity:1; fill:none\" points=\"\n",
       "  306.413,381.015 306.413,375.65 \n",
       "  \"/>\n",
       "<polyline clip-path=\"url(#clip02)\" style=\"stroke:#00002d; stroke-width:0.8; stroke-opacity:1; fill:none\" points=\"\n",
       "  443.04,381.015 443.04,375.65 \n",
       "  \"/>\n",
       "<polyline clip-path=\"url(#clip02)\" style=\"stroke:#00002d; stroke-width:0.8; stroke-opacity:1; fill:none\" points=\"\n",
       "  579.668,381.015 579.668,375.65 \n",
       "  \"/>\n",
       "<polyline clip-path=\"url(#clip02)\" style=\"stroke:#00002d; stroke-width:0.8; stroke-opacity:1; fill:none\" points=\"\n",
       "  16.7629,381.015 16.7629,23.3815 \n",
       "  \"/>\n",
       "<polyline clip-path=\"url(#clip02)\" style=\"stroke:#00002d; stroke-width:0.8; stroke-opacity:1; fill:none\" points=\"\n",
       "  16.7629,370.893 25.4524,370.893 \n",
       "  \"/>\n",
       "<polyline clip-path=\"url(#clip02)\" style=\"stroke:#00002d; stroke-width:0.8; stroke-opacity:1; fill:none\" points=\"\n",
       "  16.7629,286.546 25.4524,286.546 \n",
       "  \"/>\n",
       "<polyline clip-path=\"url(#clip02)\" style=\"stroke:#00002d; stroke-width:0.8; stroke-opacity:1; fill:none\" points=\"\n",
       "  16.7629,202.198 25.4524,202.198 \n",
       "  \"/>\n",
       "<polyline clip-path=\"url(#clip02)\" style=\"stroke:#00002d; stroke-width:0.8; stroke-opacity:1; fill:none\" points=\"\n",
       "  16.7629,117.851 25.4524,117.851 \n",
       "  \"/>\n",
       "<polyline clip-path=\"url(#clip02)\" style=\"stroke:#00002d; stroke-width:0.8; stroke-opacity:1; fill:none\" points=\"\n",
       "  16.7629,33.5032 25.4524,33.5032 \n",
       "  \"/>\n",
       "<g clip-path=\"url(#clip00)\">\n",
       "<text style=\"fill:#00002d; fill-opacity:1; font-family:Arial,Helvetica Neue,Helvetica,sans-serif; font-size:12; text-anchor:middle;\" transform=\"rotate(0, 33.1582, 393.015)\" x=\"33.1582\" y=\"393.015\">1</text>\n",
       "</g>\n",
       "<g clip-path=\"url(#clip00)\">\n",
       "<text style=\"fill:#00002d; fill-opacity:1; font-family:Arial,Helvetica Neue,Helvetica,sans-serif; font-size:12; text-anchor:middle;\" transform=\"rotate(0, 169.786, 393.015)\" x=\"169.786\" y=\"393.015\">2</text>\n",
       "</g>\n",
       "<g clip-path=\"url(#clip00)\">\n",
       "<text style=\"fill:#00002d; fill-opacity:1; font-family:Arial,Helvetica Neue,Helvetica,sans-serif; font-size:12; text-anchor:middle;\" transform=\"rotate(0, 306.413, 393.015)\" x=\"306.413\" y=\"393.015\">3</text>\n",
       "</g>\n",
       "<g clip-path=\"url(#clip00)\">\n",
       "<text style=\"fill:#00002d; fill-opacity:1; font-family:Arial,Helvetica Neue,Helvetica,sans-serif; font-size:12; text-anchor:middle;\" transform=\"rotate(0, 443.04, 393.015)\" x=\"443.04\" y=\"393.015\">4</text>\n",
       "</g>\n",
       "<g clip-path=\"url(#clip00)\">\n",
       "<text style=\"fill:#00002d; fill-opacity:1; font-family:Arial,Helvetica Neue,Helvetica,sans-serif; font-size:12; text-anchor:middle;\" transform=\"rotate(0, 579.668, 393.015)\" x=\"579.668\" y=\"393.015\">5</text>\n",
       "</g>\n",
       "<g clip-path=\"url(#clip00)\">\n",
       "<text style=\"fill:#00002d; fill-opacity:1; font-family:Arial,Helvetica Neue,Helvetica,sans-serif; font-size:12; text-anchor:end;\" transform=\"rotate(0, 15.5629, 375.393)\" x=\"15.5629\" y=\"375.393\">1</text>\n",
       "</g>\n",
       "<g clip-path=\"url(#clip00)\">\n",
       "<text style=\"fill:#00002d; fill-opacity:1; font-family:Arial,Helvetica Neue,Helvetica,sans-serif; font-size:12; text-anchor:end;\" transform=\"rotate(0, 15.5629, 291.046)\" x=\"15.5629\" y=\"291.046\">2</text>\n",
       "</g>\n",
       "<g clip-path=\"url(#clip00)\">\n",
       "<text style=\"fill:#00002d; fill-opacity:1; font-family:Arial,Helvetica Neue,Helvetica,sans-serif; font-size:12; text-anchor:end;\" transform=\"rotate(0, 15.5629, 206.698)\" x=\"15.5629\" y=\"206.698\">3</text>\n",
       "</g>\n",
       "<g clip-path=\"url(#clip00)\">\n",
       "<text style=\"fill:#00002d; fill-opacity:1; font-family:Arial,Helvetica Neue,Helvetica,sans-serif; font-size:12; text-anchor:end;\" transform=\"rotate(0, 15.5629, 122.351)\" x=\"15.5629\" y=\"122.351\">4</text>\n",
       "</g>\n",
       "<g clip-path=\"url(#clip00)\">\n",
       "<text style=\"fill:#00002d; fill-opacity:1; font-family:Arial,Helvetica Neue,Helvetica,sans-serif; font-size:12; text-anchor:end;\" transform=\"rotate(0, 15.5629, 38.0032)\" x=\"15.5629\" y=\"38.0032\">5</text>\n",
       "</g>\n",
       "<g clip-path=\"url(#clip00)\">\n",
       "<text style=\"fill:#00002d; fill-opacity:1; font-family:Arial,Helvetica Neue,Helvetica,sans-serif; font-size:21; text-anchor:middle;\" transform=\"rotate(0, 306.413, 18)\" x=\"306.413\" y=\"18\">NamedColors</text>\n",
       "</g>\n",
       "<circle clip-path=\"url(#clip02)\" style=\"fill:#00002d; stroke:none; fill-opacity:1\" cx=\"33.1582\" cy=\"370.893\" r=\"3\"/>\n",
       "<circle clip-path=\"url(#clip02)\" style=\"fill:#000034; stroke:none; fill-opacity:1\" cx=\"33.1582\" cy=\"370.893\" r=\"2\"/>\n",
       "<circle clip-path=\"url(#clip02)\" style=\"fill:#00002d; stroke:none; fill-opacity:1\" cx=\"169.786\" cy=\"286.546\" r=\"3\"/>\n",
       "<circle clip-path=\"url(#clip02)\" style=\"fill:#ffccff; stroke:none; fill-opacity:1\" cx=\"169.786\" cy=\"286.546\" r=\"2\"/>\n",
       "<circle clip-path=\"url(#clip02)\" style=\"fill:#00002d; stroke:none; fill-opacity:1\" cx=\"306.413\" cy=\"202.198\" r=\"3\"/>\n",
       "<circle clip-path=\"url(#clip02)\" style=\"fill:#546a2e; stroke:none; fill-opacity:1\" cx=\"306.413\" cy=\"202.198\" r=\"2\"/>\n",
       "<circle clip-path=\"url(#clip02)\" style=\"fill:#00002d; stroke:none; fill-opacity:1\" cx=\"443.04\" cy=\"117.851\" r=\"3\"/>\n",
       "<circle clip-path=\"url(#clip02)\" style=\"fill:#d1b48b; stroke:none; fill-opacity:1\" cx=\"443.04\" cy=\"117.851\" r=\"2\"/>\n",
       "<circle clip-path=\"url(#clip02)\" style=\"fill:#00002d; stroke:none; fill-opacity:1\" cx=\"579.668\" cy=\"33.5032\" r=\"3\"/>\n",
       "<circle clip-path=\"url(#clip02)\" style=\"fill:#590c33; stroke:none; fill-opacity:1\" cx=\"579.668\" cy=\"33.5032\" r=\"2\"/>\n",
       "<polygon clip-path=\"url(#clip00)\" points=\"\n",
       "505.547,74.5015 578.063,74.5015 578.063,44.2615 505.547,44.2615 \n",
       "  \" fill=\"#ffffff\" fill-opacity=\"1\"/>\n",
       "<polyline clip-path=\"url(#clip00)\" style=\"stroke:#00002d; stroke-width:0.8; stroke-opacity:1; fill:none\" points=\"\n",
       "  505.547,74.5015 578.063,74.5015 578.063,44.2615 505.547,44.2615 505.547,74.5015 \n",
       "  \"/>\n",
       "<circle clip-path=\"url(#clip00)\" style=\"fill:#00002d; stroke:none; fill-opacity:1\" cx=\"517.547\" cy=\"59.3815\" r=\"7\"/>\n",
       "<circle clip-path=\"url(#clip00)\" style=\"fill:#000034; stroke:none; fill-opacity:1\" cx=\"517.547\" cy=\"59.3815\" r=\"7\"/>\n",
       "<circle clip-path=\"url(#clip00)\" style=\"fill:#00002d; stroke:none; fill-opacity:1\" cx=\"541.547\" cy=\"59.3815\" r=\"7\"/>\n",
       "<circle clip-path=\"url(#clip00)\" style=\"fill:#ffccff; stroke:none; fill-opacity:1\" cx=\"541.547\" cy=\"59.3815\" r=\"7\"/>\n",
       "<g clip-path=\"url(#clip00)\">\n",
       "<text style=\"fill:#00002d; fill-opacity:1; font-family:Arial,Helvetica Neue,Helvetica,sans-serif; font-size:12; text-anchor:start;\" transform=\"rotate(0, 553.547, 63.8815)\" x=\"553.547\" y=\"63.8815\">y1</text>\n",
       "</g>\n",
       "<g clip-path=\"url(#clip00)\">\n",
       "<text style=\"fill:#00002d; fill-opacity:1; font-family:Arial,Helvetica Neue,Helvetica,sans-serif; font-size:21; text-anchor:middle;\" transform=\"rotate(0, 33.1582, 378.393)\" x=\"33.1582\" y=\"378.393\">midnight blue</text>\n",
       "</g>\n",
       "<g clip-path=\"url(#clip00)\">\n",
       "<text style=\"fill:#00002d; fill-opacity:1; font-family:Arial,Helvetica Neue,Helvetica,sans-serif; font-size:21; text-anchor:middle;\" transform=\"rotate(0, 169.786, 294.046)\" x=\"169.786\" y=\"294.046\">very light purple</text>\n",
       "</g>\n",
       "<g clip-path=\"url(#clip00)\">\n",
       "<text style=\"fill:#00002d; fill-opacity:1; font-family:Arial,Helvetica Neue,Helvetica,sans-serif; font-size:21; text-anchor:middle;\" transform=\"rotate(0, 306.413, 209.698)\" x=\"306.413\" y=\"209.698\">camo green</text>\n",
       "</g>\n",
       "<g clip-path=\"url(#clip00)\">\n",
       "<text style=\"fill:#00002d; fill-opacity:1; font-family:Arial,Helvetica Neue,Helvetica,sans-serif; font-size:21; text-anchor:middle;\" transform=\"rotate(0, 443.04, 125.351)\" x=\"443.04\" y=\"125.351\">toupe</text>\n",
       "</g>\n",
       "<g clip-path=\"url(#clip00)\">\n",
       "<text style=\"fill:#00002d; fill-opacity:1; font-family:Arial,Helvetica Neue,Helvetica,sans-serif; font-size:21; text-anchor:middle;\" transform=\"rotate(0, 579.668, 41.0032)\" x=\"579.668\" y=\"41.0032\">grape purple</text>\n",
       "</g>\n",
       "</svg>\n"
      ]
     },
     "execution_count": 41,
     "metadata": {},
     "output_type": "execute_result"
    }
   ],
   "source": [
    "plot()\n",
    "#background_color=xkcd[\"booger\"],leg=false)\n",
    "scatter!(1:sample_size, \n",
    "        color=collect(values(xkcd_sample),\n",
    "markersize=1cm\n",
    "),\n",
    "series_annotations=collect(keys(xkcd_sample))\n",
    ")\n",
    "title!(\"NamedColors\")\n"
   ]
  },
  {
   "cell_type": "code",
   "execution_count": null,
   "metadata": {
    "collapsed": true
   },
   "outputs": [],
   "source": []
  }
 ],
 "metadata": {
  "kernelspec": {
   "display_name": "Julia 0.5.0-rc0",
   "language": "julia",
   "name": "julia-0.5"
  },
  "language_info": {
   "file_extension": ".jl",
   "mimetype": "application/julia",
   "name": "julia",
   "version": "0.5.0"
  }
 },
 "nbformat": 4,
 "nbformat_minor": 0
}
