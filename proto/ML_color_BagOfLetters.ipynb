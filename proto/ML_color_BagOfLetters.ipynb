{
 "cells": [
  {
   "cell_type": "code",
   "execution_count": 1,
   "metadata": {
    "collapsed": false
   },
   "outputs": [],
   "source": [
    "using NamedColors\n",
    "using Colors\n",
    "using ColorTypes\n",
    "using StatsBase"
   ]
  },
  {
   "cell_type": "code",
   "execution_count": 2,
   "metadata": {
    "collapsed": false,
    "scrolled": true
   },
   "outputs": [],
   "source": [
    "training_dict = load_xkcd();"
   ]
  },
  {
   "cell_type": "code",
   "execution_count": 3,
   "metadata": {
    "collapsed": false
   },
   "outputs": [
    {
     "ename": "LoadError",
     "evalue": "UndefVarError: y_raw_1 not defined",
     "output_type": "error",
     "traceback": [
      "UndefVarError: y_raw_1 not defined",
      ""
     ]
    }
   ],
   "source": [
    "function encode_output(raw::Colorant)\n",
    "    #Encoding Angles: http://stats.stackexchange.com/a/218547/36769\n",
    "    hsv = convert(HSV, raw)\n",
    "    [(sind(hsv.h)+1)/2, (cosd(hsv.h)+1)/2, hsv.s, hsv.v]\n",
    "end\n",
    "\n",
    "function decode_output(out)\n",
    "    hue = rad2deg(atan2(2out[1]-1, 2out[2]-1))\n",
    "    sat = out[3]\n",
    "    val = out[4]\n",
    "    HSV(hue, sat, val)\n",
    "end\n",
    "\n",
    "y1 = encode_output(y_raw_1)\n",
    "@show y1\n",
    "decode_output(y1)"
   ]
  },
  {
   "cell_type": "code",
   "execution_count": 4,
   "metadata": {
    "collapsed": false
   },
   "outputs": [
    {
     "data": {
      "text/plain": [
       "encode_input (generic function with 1 method)"
      ]
     },
     "execution_count": 4,
     "metadata": {},
     "output_type": "execute_result"
    }
   ],
   "source": [
    "function char2index(c::Char)::Int\n",
    "    if c ∈ 'a':'z'\n",
    "        c-'a'+1\n",
    "    elseif c==' '\n",
    "        'z'+1+1\n",
    "    elseif c=='/'\n",
    "        'z'+2+1\n",
    "    elseif c=='\\''\n",
    "        'z'+3+1\n",
    "    else\n",
    "        error(\"$c is out of range\")\n",
    "    end\n",
    "end\n",
    "function encode_input(name::AbstractString)\n",
    "    name_inds::Vector{Int} = char2index.(collect(name))\n",
    "    counts(name_inds, 26+3)./length(name)\n",
    "end"
   ]
  },
  {
   "cell_type": "code",
   "execution_count": 5,
   "metadata": {
    "collapsed": false
   },
   "outputs": [],
   "source": [
    "using Learn\n",
    "import MNIST\n",
    "using MLDataUtils\n",
    "using StatsBase\n",
    "using StochasticOptimization.Iteration"
   ]
  },
  {
   "cell_type": "code",
   "execution_count": 6,
   "metadata": {
    "collapsed": false
   },
   "outputs": [
    {
     "data": {
      "text/plain": [
       "get_training (generic function with 1 method)"
      ]
     },
     "execution_count": 6,
     "metadata": {},
     "output_type": "execute_result"
    }
   ],
   "source": [
    "function get_training(training_dict)\n",
    "    colors = collect(values(training_dict))\n",
    "    y_train = hcat(encode_output.(colors)...)\n",
    "    \n",
    "    names = collect(keys(training_dict))\n",
    "    x_train = hcat(encode_input.(names)...)\n",
    "    x_train, y_train\n",
    "end\n"
   ]
  },
  {
   "cell_type": "code",
   "execution_count": 7,
   "metadata": {
    "collapsed": false
   },
   "outputs": [
    {
     "data": {
      "text/plain": [
       "(\n",
       "[0.0909091 0.0 … 0.166667 0.0588235; 0.0 0.0 … 0.0 0.0; … ; 0.0 0.0 … 0.0 0.0; 0.0 0.0 … 0.0 0.0],\n",
       "\n",
       "Float32[0.994721 0.350743 … 0.230551 0.995183; 0.427534 0.977203 … 0.0788147 0.430766; 0.929032 0.892019 … 0.958333 0.595142; 0.607843 0.835294 … 0.376471 0.968627])"
      ]
     },
     "execution_count": 7,
     "metadata": {},
     "output_type": "execute_result"
    }
   ],
   "source": [
    "train = get_training(training_dict)"
   ]
  },
  {
   "cell_type": "code",
   "execution_count": 18,
   "metadata": {
    "collapsed": false
   },
   "outputs": [
    {
     "name": "stderr",
     "output_type": "stream",
     "text": [
      "WARNING: Method definition my_test_loss(Any, Any) in module Main at In[15]:2 overwritten at In[18]:2.\n"
     ]
    },
    {
     "data": {
      "text/plain": [
       "StochasticOptimization.IterFunction(#10,1)"
      ]
     },
     "execution_count": 18,
     "metadata": {},
     "output_type": "execute_result"
    }
   ],
   "source": [
    "function my_test_loss(obj, testdata)\n",
    "    totloss = 0.0\n",
    "    totcorrect = 0\n",
    "    for (x,y) in each_obs(testdata)\n",
    "        totloss += transform!(obj,y,x)\n",
    "    end\n",
    "    totloss\n",
    "end\n",
    "\n",
    "\n",
    "tracer = IterFunction((obj, i) -> begin\n",
    "    if mod1(i,1000)==1000\n",
    "        totloss  = my_test_loss(obj, train, 500)\n",
    "        println(i, \" totloss:  \", totloss)\n",
    "    end\n",
    "end)"
   ]
  },
  {
   "cell_type": "code",
   "execution_count": 29,
   "metadata": {
    "collapsed": false
   },
   "outputs": [
    {
     "data": {
      "text/plain": [
       "ObjectiveFunctions.RegularizedObjective{Transformations.Chain{Float64,Transformations.Params{SubArray{Float64,1,Array{Float64,1},Tuple{UnitRange{Int64}},true},Tuple{},Tuple{}}},ObjectiveFunctions.LossTransform{Float64,LossFunctions.CrossentropyLoss},Penalties.ElasticNetPenalty{Float64}}(Chain{Float64}(\n",
       "   LayerNorm{29-->256, mu=0.0, sigma=1.0}\n",
       "   softplus{256}\n",
       "   LayerNorm{256-->64, mu=0.0, sigma=1.0}\n",
       "   softplus{64}\n",
       "   LayerNorm{64-->4, mu=0.0, sigma=1.0}\n",
       "   logistic{4}\n",
       ") ,ObjectiveFunctions.LossTransform{Float64,LossFunctions.CrossentropyLoss}(LossFunctions.CrossentropyLoss(),4,input(4,),target(4,),output(1,)),Penalties.ElasticNetPenalty{Float64}(1.0e-5,0.5))"
      ]
     },
     "execution_count": 29,
     "metadata": {},
     "output_type": "execute_result"
    }
   ],
   "source": [
    "nin, nh, nout = size(train[1],1), [4^4,4^3], size(train[2],1)\n",
    "t = nnet(nin, nout, nh, :softplus, :logistic)\n",
    "obj = objective(t, ElasticNetPenalty(1e-5))"
   ]
  },
  {
   "cell_type": "code",
   "execution_count": 30,
   "metadata": {
    "collapsed": false
   },
   "outputs": [],
   "source": [
    "learner = make_learner(\n",
    "    GradientLearner(0.01, Adadelta()),\n",
    "    #tracer,\n",
    "    maxiter = 10_000\n",
    ")\n",
    "learn!(obj, learner, InfiniteBatches(train, size=5))"
   ]
  },
  {
   "cell_type": "code",
   "execution_count": null,
   "metadata": {
    "collapsed": false
   },
   "outputs": [],
   "source": []
  },
  {
   "cell_type": "code",
   "execution_count": 31,
   "metadata": {
    "collapsed": false
   },
   "outputs": [
    {
     "name": "stderr",
     "output_type": "stream",
     "text": [
      "WARNING: Method definition get_colour(Any, Any) in module Main at In[26]:2 overwritten at In[31]:2.\n",
      "WARNING: Method definition display_colour(Any, Any) in module Main at In[26]:6 overwritten at In[31]:6.\n"
     ]
    },
    {
     "data": {
      "text/plain": [
       "display_colour (generic function with 1 method)"
      ]
     },
     "execution_count": 31,
     "metadata": {},
     "output_type": "execute_result"
    }
   ],
   "source": [
    "function get_colour(obj, name)\n",
    "    transform!(obj,[0,0,0,0f0],encode_input(name))\n",
    "    decode_output( output_value(obj.transformation ))\n",
    "end\n",
    "function display_colour(obj,name)\n",
    "    display(name)\n",
    "    display(get_colour(obj, name))\n",
    "    display(\"-\"^16)\n",
    "end"
   ]
  },
  {
   "cell_type": "code",
   "execution_count": 32,
   "metadata": {
    "collapsed": false
   },
   "outputs": [
    {
     "data": {
      "text/plain": [
       "\"green\""
      ]
     },
     "metadata": {},
     "output_type": "display_data"
    },
    {
     "data": {
      "image/svg+xml": [
       "<?xml version\"1.0\" encoding=\"UTF-8\"?>\n",
       "<!DOCTYPE svg PUBLIC \"-//W3C//DTD SVG 1.1//EN\"\n",
       " \"http://www.w3.org/Graphics/SVG/1.1/DTD/svg11.dtd\">\n",
       "<svg xmlns=\"http://www.w3.org/2000/svg\" version=\"1.1\"\n",
       "     width=\"25mm\" height=\"25mm\" viewBox=\"0 0 1 1\">\n",
       "     <rect width=\"1\" height=\"1\"\n",
       "           fill=\"#38F672\" stroke=\"none\"/>\n",
       "</svg>\n"
      ],
      "text/plain": [
       "HSV{Float64}(138.53967755843874,0.7737977452480247,0.9642037550200807)"
      ]
     },
     "metadata": {},
     "output_type": "display_data"
    },
    {
     "data": {
      "text/plain": [
       "\"----------------\""
      ]
     },
     "metadata": {},
     "output_type": "display_data"
    },
    {
     "data": {
      "text/plain": [
       "\"red\""
      ]
     },
     "metadata": {},
     "output_type": "display_data"
    },
    {
     "data": {
      "image/svg+xml": [
       "<?xml version\"1.0\" encoding=\"UTF-8\"?>\n",
       "<!DOCTYPE svg PUBLIC \"-//W3C//DTD SVG 1.1//EN\"\n",
       " \"http://www.w3.org/Graphics/SVG/1.1/DTD/svg11.dtd\">\n",
       "<svg xmlns=\"http://www.w3.org/2000/svg\" version=\"1.1\"\n",
       "     width=\"25mm\" height=\"25mm\" viewBox=\"0 0 1 1\">\n",
       "     <rect width=\"1\" height=\"1\"\n",
       "           fill=\"#2FF675\" stroke=\"none\"/>\n",
       "</svg>\n"
      ],
      "text/plain": [
       "HSV{Float64}(141.01029110369393,0.8068512170135694,0.9636301139577433)"
      ]
     },
     "metadata": {},
     "output_type": "display_data"
    },
    {
     "data": {
      "text/plain": [
       "\"----------------\""
      ]
     },
     "metadata": {},
     "output_type": "display_data"
    },
    {
     "data": {
      "text/plain": [
       "\"lightred\""
      ]
     },
     "metadata": {},
     "output_type": "display_data"
    },
    {
     "data": {
      "image/svg+xml": [
       "<?xml version\"1.0\" encoding=\"UTF-8\"?>\n",
       "<!DOCTYPE svg PUBLIC \"-//W3C//DTD SVG 1.1//EN\"\n",
       " \"http://www.w3.org/Graphics/SVG/1.1/DTD/svg11.dtd\">\n",
       "<svg xmlns=\"http://www.w3.org/2000/svg\" version=\"1.1\"\n",
       "     width=\"25mm\" height=\"25mm\" viewBox=\"0 0 1 1\">\n",
       "     <rect width=\"1\" height=\"1\"\n",
       "           fill=\"#45F98B\" stroke=\"none\"/>\n",
       "</svg>\n"
      ],
      "text/plain": [
       "HSV{Float64}(143.51416832631867,0.7249148844672831,0.9765740487540207)"
      ]
     },
     "metadata": {},
     "output_type": "display_data"
    },
    {
     "data": {
      "text/plain": [
       "\"----------------\""
      ]
     },
     "metadata": {},
     "output_type": "display_data"
    },
    {
     "data": {
      "text/plain": [
       "\"dirtyred\""
      ]
     },
     "metadata": {},
     "output_type": "display_data"
    },
    {
     "data": {
      "image/svg+xml": [
       "<?xml version\"1.0\" encoding=\"UTF-8\"?>\n",
       "<!DOCTYPE svg PUBLIC \"-//W3C//DTD SVG 1.1//EN\"\n",
       " \"http://www.w3.org/Graphics/SVG/1.1/DTD/svg11.dtd\">\n",
       "<svg xmlns=\"http://www.w3.org/2000/svg\" version=\"1.1\"\n",
       "     width=\"25mm\" height=\"25mm\" viewBox=\"0 0 1 1\">\n",
       "     <rect width=\"1\" height=\"1\"\n",
       "           fill=\"#30F896\" stroke=\"none\"/>\n",
       "</svg>\n"
      ],
      "text/plain": [
       "HSV{Float64}(150.59806321048458,0.8056457155631647,0.9735579784530054)"
      ]
     },
     "metadata": {},
     "output_type": "display_data"
    },
    {
     "data": {
      "text/plain": [
       "\"----------------\""
      ]
     },
     "metadata": {},
     "output_type": "display_data"
    },
    {
     "data": {
      "text/plain": [
       "\"lightredishblue\""
      ]
     },
     "metadata": {},
     "output_type": "display_data"
    },
    {
     "data": {
      "image/svg+xml": [
       "<?xml version\"1.0\" encoding=\"UTF-8\"?>\n",
       "<!DOCTYPE svg PUBLIC \"-//W3C//DTD SVG 1.1//EN\"\n",
       " \"http://www.w3.org/Graphics/SVG/1.1/DTD/svg11.dtd\">\n",
       "<svg xmlns=\"http://www.w3.org/2000/svg\" version=\"1.1\"\n",
       "     width=\"25mm\" height=\"25mm\" viewBox=\"0 0 1 1\">\n",
       "     <rect width=\"1\" height=\"1\"\n",
       "           fill=\"#40F997\" stroke=\"none\"/>\n",
       "</svg>\n"
      ],
      "text/plain": [
       "HSV{Float64}(148.15319863592262,0.7447801143266772,0.97777925454676)"
      ]
     },
     "metadata": {},
     "output_type": "display_data"
    },
    {
     "data": {
      "text/plain": [
       "\"----------------\""
      ]
     },
     "metadata": {},
     "output_type": "display_data"
    },
    {
     "data": {
      "text/plain": [
       "\"bluish red\""
      ]
     },
     "metadata": {},
     "output_type": "display_data"
    },
    {
     "data": {
      "image/svg+xml": [
       "<?xml version\"1.0\" encoding=\"UTF-8\"?>\n",
       "<!DOCTYPE svg PUBLIC \"-//W3C//DTD SVG 1.1//EN\"\n",
       " \"http://www.w3.org/Graphics/SVG/1.1/DTD/svg11.dtd\">\n",
       "<svg xmlns=\"http://www.w3.org/2000/svg\" version=\"1.1\"\n",
       "     width=\"25mm\" height=\"25mm\" viewBox=\"0 0 1 1\">\n",
       "     <rect width=\"1\" height=\"1\"\n",
       "           fill=\"#2CF9AF\" stroke=\"none\"/>\n",
       "</svg>\n"
      ],
      "text/plain": [
       "HSV{Float64}(158.41132708635146,0.8248720627168395,0.974691394725671)"
      ]
     },
     "metadata": {},
     "output_type": "display_data"
    },
    {
     "data": {
      "text/plain": [
       "\"----------------\""
      ]
     },
     "metadata": {},
     "output_type": "display_data"
    },
    {
     "data": {
      "text/plain": [
       "\"blue\""
      ]
     },
     "metadata": {},
     "output_type": "display_data"
    },
    {
     "data": {
      "image/svg+xml": [
       "<?xml version\"1.0\" encoding=\"UTF-8\"?>\n",
       "<!DOCTYPE svg PUBLIC \"-//W3C//DTD SVG 1.1//EN\"\n",
       " \"http://www.w3.org/Graphics/SVG/1.1/DTD/svg11.dtd\">\n",
       "<svg xmlns=\"http://www.w3.org/2000/svg\" version=\"1.1\"\n",
       "     width=\"25mm\" height=\"25mm\" viewBox=\"0 0 1 1\">\n",
       "     <rect width=\"1\" height=\"1\"\n",
       "           fill=\"#29F8BA\" stroke=\"none\"/>\n",
       "</svg>\n"
      ],
      "text/plain": [
       "HSV{Float64}(161.93214485379377,0.8360190672691338,0.9744612493849776)"
      ]
     },
     "metadata": {},
     "output_type": "display_data"
    },
    {
     "data": {
      "text/plain": [
       "\"----------------\""
      ]
     },
     "metadata": {},
     "output_type": "display_data"
    },
    {
     "data": {
      "text/plain": [
       "\"light blue\""
      ]
     },
     "metadata": {},
     "output_type": "display_data"
    },
    {
     "data": {
      "image/svg+xml": [
       "<?xml version\"1.0\" encoding=\"UTF-8\"?>\n",
       "<!DOCTYPE svg PUBLIC \"-//W3C//DTD SVG 1.1//EN\"\n",
       " \"http://www.w3.org/Graphics/SVG/1.1/DTD/svg11.dtd\">\n",
       "<svg xmlns=\"http://www.w3.org/2000/svg\" version=\"1.1\"\n",
       "     width=\"25mm\" height=\"25mm\" viewBox=\"0 0 1 1\">\n",
       "     <rect width=\"1\" height=\"1\"\n",
       "           fill=\"#3DFAB6\" stroke=\"none\"/>\n",
       "</svg>\n"
      ],
      "text/plain": [
       "HSV{Float64}(158.56043785549147,0.7572707531912777,0.9801652101391725)"
      ]
     },
     "metadata": {},
     "output_type": "display_data"
    },
    {
     "data": {
      "text/plain": [
       "\"----------------\""
      ]
     },
     "metadata": {},
     "output_type": "display_data"
    },
    {
     "data": {
      "text/plain": [
       "\"lightred\""
      ]
     },
     "metadata": {},
     "output_type": "display_data"
    },
    {
     "data": {
      "image/svg+xml": [
       "<?xml version\"1.0\" encoding=\"UTF-8\"?>\n",
       "<!DOCTYPE svg PUBLIC \"-//W3C//DTD SVG 1.1//EN\"\n",
       " \"http://www.w3.org/Graphics/SVG/1.1/DTD/svg11.dtd\">\n",
       "<svg xmlns=\"http://www.w3.org/2000/svg\" version=\"1.1\"\n",
       "     width=\"25mm\" height=\"25mm\" viewBox=\"0 0 1 1\">\n",
       "     <rect width=\"1\" height=\"1\"\n",
       "           fill=\"#45F98B\" stroke=\"none\"/>\n",
       "</svg>\n"
      ],
      "text/plain": [
       "HSV{Float64}(143.51416832631867,0.7249148844672831,0.9765740487540207)"
      ]
     },
     "metadata": {},
     "output_type": "display_data"
    },
    {
     "data": {
      "text/plain": [
       "\"----------------\""
      ]
     },
     "metadata": {},
     "output_type": "display_data"
    }
   ],
   "source": [
    "display_colour(obj, \"green\")\n",
    "display_colour(obj, \"red\")\n",
    "display_colour(obj, \"lightred\")\n",
    "display_colour(obj, \"dirtyred\")\n",
    "display_colour(obj, \"lightredishblue\")\n",
    "display_colour(obj, \"bluish red\")\n",
    "display_colour(obj, \"blue\")\n",
    "display_colour(obj, \"light blue\")\n",
    "display_colour(obj, \"lightred\")\n",
    "\n"
   ]
  },
  {
   "cell_type": "code",
   "execution_count": 33,
   "metadata": {
    "collapsed": false
   },
   "outputs": [
    {
     "data": {
      "text/plain": [
       "\"hot pink\""
      ]
     },
     "metadata": {},
     "output_type": "display_data"
    },
    {
     "data": {
      "image/svg+xml": [
       "<?xml version\"1.0\" encoding=\"UTF-8\"?>\n",
       "<!DOCTYPE svg PUBLIC \"-//W3C//DTD SVG 1.1//EN\"\n",
       " \"http://www.w3.org/Graphics/SVG/1.1/DTD/svg11.dtd\">\n",
       "<svg xmlns=\"http://www.w3.org/2000/svg\" version=\"1.1\"\n",
       "     width=\"25mm\" height=\"25mm\" viewBox=\"0 0 1 1\">\n",
       "     <rect width=\"1\" height=\"1\"\n",
       "           fill=\"#42FBD2\" stroke=\"none\"/>\n",
       "</svg>\n"
      ],
      "text/plain": [
       "HSV{Float64}(166.94621018729993,0.7353264686682975,0.9824071540404873)"
      ]
     },
     "metadata": {},
     "output_type": "display_data"
    },
    {
     "data": {
      "text/plain": [
       "\"----------------\""
      ]
     },
     "metadata": {},
     "output_type": "display_data"
    },
    {
     "data": {
      "text/plain": [
       "\"hot blue\""
      ]
     },
     "metadata": {},
     "output_type": "display_data"
    },
    {
     "data": {
      "image/svg+xml": [
       "<?xml version\"1.0\" encoding=\"UTF-8\"?>\n",
       "<!DOCTYPE svg PUBLIC \"-//W3C//DTD SVG 1.1//EN\"\n",
       " \"http://www.w3.org/Graphics/SVG/1.1/DTD/svg11.dtd\">\n",
       "<svg xmlns=\"http://www.w3.org/2000/svg\" version=\"1.1\"\n",
       "     width=\"25mm\" height=\"25mm\" viewBox=\"0 0 1 1\">\n",
       "     <rect width=\"1\" height=\"1\"\n",
       "           fill=\"#22F8BF\" stroke=\"none\"/>\n",
       "</svg>\n"
      ],
      "text/plain": [
       "HSV{Float64}(164.20737748289892,0.8627641384952655,0.9713488633642041)"
      ]
     },
     "metadata": {},
     "output_type": "display_data"
    },
    {
     "data": {
      "text/plain": [
       "\"----------------\""
      ]
     },
     "metadata": {},
     "output_type": "display_data"
    },
    {
     "data": {
      "text/plain": [
       "\"hot green\""
      ]
     },
     "metadata": {},
     "output_type": "display_data"
    },
    {
     "data": {
      "image/svg+xml": [
       "<?xml version\"1.0\" encoding=\"UTF-8\"?>\n",
       "<!DOCTYPE svg PUBLIC \"-//W3C//DTD SVG 1.1//EN\"\n",
       " \"http://www.w3.org/Graphics/SVG/1.1/DTD/svg11.dtd\">\n",
       "<svg xmlns=\"http://www.w3.org/2000/svg\" version=\"1.1\"\n",
       "     width=\"25mm\" height=\"25mm\" viewBox=\"0 0 1 1\">\n",
       "     <rect width=\"1\" height=\"1\"\n",
       "           fill=\"#37F77D\" stroke=\"none\"/>\n",
       "</svg>\n"
      ],
      "text/plain": [
       "HSV{Float64}(141.73616877854153,0.7765359938775882,0.9695213434648472)"
      ]
     },
     "metadata": {},
     "output_type": "display_data"
    },
    {
     "data": {
      "text/plain": [
       "\"----------------\""
      ]
     },
     "metadata": {},
     "output_type": "display_data"
    },
    {
     "data": {
      "text/plain": [
       "\"dark blue\""
      ]
     },
     "metadata": {},
     "output_type": "display_data"
    },
    {
     "data": {
      "image/svg+xml": [
       "<?xml version\"1.0\" encoding=\"UTF-8\"?>\n",
       "<!DOCTYPE svg PUBLIC \"-//W3C//DTD SVG 1.1//EN\"\n",
       " \"http://www.w3.org/Graphics/SVG/1.1/DTD/svg11.dtd\">\n",
       "<svg xmlns=\"http://www.w3.org/2000/svg\" version=\"1.1\"\n",
       "     width=\"25mm\" height=\"25mm\" viewBox=\"0 0 1 1\">\n",
       "     <rect width=\"1\" height=\"1\"\n",
       "           fill=\"#1CF7C5\" stroke=\"none\"/>\n",
       "</svg>\n"
      ],
      "text/plain": [
       "HSV{Float64}(166.35705115970893,0.8855119709686275,0.9675168202783585)"
      ]
     },
     "metadata": {},
     "output_type": "display_data"
    },
    {
     "data": {
      "text/plain": [
       "\"----------------\""
      ]
     },
     "metadata": {},
     "output_type": "display_data"
    },
    {
     "data": {
      "text/plain": [
       "\"light black\""
      ]
     },
     "metadata": {},
     "output_type": "display_data"
    },
    {
     "data": {
      "image/svg+xml": [
       "<?xml version\"1.0\" encoding=\"UTF-8\"?>\n",
       "<!DOCTYPE svg PUBLIC \"-//W3C//DTD SVG 1.1//EN\"\n",
       " \"http://www.w3.org/Graphics/SVG/1.1/DTD/svg11.dtd\">\n",
       "<svg xmlns=\"http://www.w3.org/2000/svg\" version=\"1.1\"\n",
       "     width=\"25mm\" height=\"25mm\" viewBox=\"0 0 1 1\">\n",
       "     <rect width=\"1\" height=\"1\"\n",
       "           fill=\"#54FBB1\" stroke=\"none\"/>\n",
       "</svg>\n"
      ],
      "text/plain": [
       "HSV{Float64}(153.5358575041976,0.6662037789021944,0.98327954765795)"
      ]
     },
     "metadata": {},
     "output_type": "display_data"
    },
    {
     "data": {
      "text/plain": [
       "\"----------------\""
      ]
     },
     "metadata": {},
     "output_type": "display_data"
    },
    {
     "data": {
      "text/plain": [
       "\"black\""
      ]
     },
     "metadata": {},
     "output_type": "display_data"
    },
    {
     "data": {
      "image/svg+xml": [
       "<?xml version\"1.0\" encoding=\"UTF-8\"?>\n",
       "<!DOCTYPE svg PUBLIC \"-//W3C//DTD SVG 1.1//EN\"\n",
       " \"http://www.w3.org/Graphics/SVG/1.1/DTD/svg11.dtd\">\n",
       "<svg xmlns=\"http://www.w3.org/2000/svg\" version=\"1.1\"\n",
       "     width=\"25mm\" height=\"25mm\" viewBox=\"0 0 1 1\">\n",
       "     <rect width=\"1\" height=\"1\"\n",
       "           fill=\"#4EFBD4\" stroke=\"none\"/>\n",
       "</svg>\n"
      ],
      "text/plain": [
       "HSV{Float64}(166.41990892404124,0.6876673019255929,0.9839805231414449)"
      ]
     },
     "metadata": {},
     "output_type": "display_data"
    },
    {
     "data": {
      "text/plain": [
       "\"----------------\""
      ]
     },
     "metadata": {},
     "output_type": "display_data"
    },
    {
     "data": {
      "text/plain": [
       "\"dark black\""
      ]
     },
     "metadata": {},
     "output_type": "display_data"
    },
    {
     "data": {
      "image/svg+xml": [
       "<?xml version\"1.0\" encoding=\"UTF-8\"?>\n",
       "<!DOCTYPE svg PUBLIC \"-//W3C//DTD SVG 1.1//EN\"\n",
       " \"http://www.w3.org/Graphics/SVG/1.1/DTD/svg11.dtd\">\n",
       "<svg xmlns=\"http://www.w3.org/2000/svg\" version=\"1.1\"\n",
       "     width=\"25mm\" height=\"25mm\" viewBox=\"0 0 1 1\">\n",
       "     <rect width=\"1\" height=\"1\"\n",
       "           fill=\"#3AFAB9\" stroke=\"none\"/>\n",
       "</svg>\n"
      ],
      "text/plain": [
       "HSV{Float64}(159.65199627405207,0.7667810310694193,0.9798189736082294)"
      ]
     },
     "metadata": {},
     "output_type": "display_data"
    },
    {
     "data": {
      "text/plain": [
       "\"----------------\""
      ]
     },
     "metadata": {},
     "output_type": "display_data"
    }
   ],
   "source": [
    "display_colour(obj, \"hot pink\")\n",
    "display_colour(obj, \"hot blue\")\n",
    "display_colour(obj, \"hot green\")\n",
    "display_colour(obj, \"dark blue\")\n",
    "display_colour(obj, \"light black\")\n",
    "display_colour(obj, \"black\")\n",
    "display_colour(obj, \"dark black\")"
   ]
  },
  {
   "cell_type": "code",
   "execution_count": null,
   "metadata": {
    "collapsed": true
   },
   "outputs": [],
   "source": []
  },
  {
   "cell_type": "code",
   "execution_count": null,
   "metadata": {
    "collapsed": true
   },
   "outputs": [],
   "source": []
  },
  {
   "cell_type": "code",
   "execution_count": 35,
   "metadata": {
    "collapsed": false
   },
   "outputs": [
    {
     "name": "stderr",
     "output_type": "stream",
     "text": [
      "\u001b[1m\u001b[34mINFO: Cloning TensorFlow from https://github.com/benmoran/TensorFlow.jl\n",
      "\u001b[0m\u001b[1m\u001b[34mINFO: Computing changes...\n",
      "\u001b[0m\u001b[1m\u001b[31mWARNING: unknown TensorFlow commit 1e6fdbf5, metadata may be ahead of package cache\u001b[0m\n",
      "\u001b[1m\u001b[31mWARNING: unknown TensorFlow commit f218ff55, metadata may be ahead of package cache\u001b[0m\n",
      "\u001b[1m\u001b[31mWARNING: unknown TensorFlow commit 7f230b33, metadata may be ahead of package cache\u001b[0m\n",
      "\u001b[1m\u001b[31mWARNING: unknown TensorFlow commit d923347c, metadata may be ahead of package cache\u001b[0m\n",
      "\u001b[1m\u001b[31mWARNING: unknown TensorFlow commit 0c7fa9b4, metadata may be ahead of package cache\u001b[0m\n",
      "\u001b[1m\u001b[31mWARNING: unknown TensorFlow commit 599ff6b6, metadata may be ahead of package cache\u001b[0m\n",
      "\u001b[1m\u001b[31mWARNING: unknown TensorFlow commit 819dd497, metadata may be ahead of package cache\u001b[0m\n",
      "\u001b[1m\u001b[31mWARNING: unknown TensorFlow commit 2707f6c7, metadata may be ahead of package cache\u001b[0m\n",
      "\u001b[1m\u001b[31mWARNING: unknown TensorFlow commit fdb66116, metadata may be ahead of package cache\u001b[0m\n",
      "\u001b[1m\u001b[34mINFO: No packages to install, update or remove\n",
      "\u001b[0m\u001b[1m\u001b[34mINFO: Package database updated\n",
      "\u001b[0m"
     ]
    }
   ],
   "source": [
    "Pkg.clone(\"https://github.com/benmoran/TensorFlow.jl\")"
   ]
  },
  {
   "cell_type": "code",
   "execution_count": null,
   "metadata": {
    "collapsed": true
   },
   "outputs": [],
   "source": []
  }
 ],
 "metadata": {
  "kernelspec": {
   "display_name": "Julia 0.5.0",
   "language": "julia",
   "name": "julia-0.5"
  },
  "language_info": {
   "file_extension": ".jl",
   "mimetype": "application/julia",
   "name": "julia",
   "version": "0.5.0"
  }
 },
 "nbformat": 4,
 "nbformat_minor": 0
}
