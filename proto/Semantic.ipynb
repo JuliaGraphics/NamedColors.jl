{
 "cells": [
  {
   "cell_type": "code",
   "execution_count": 1,
   "metadata": {
    "collapsed": true
   },
   "outputs": [],
   "source": [
    "using NamedColors\n",
    "using Colors\n",
    "using AutoHashEquals\n",
    "using AbstractTrees"
   ]
  },
  {
   "cell_type": "code",
   "execution_count": 21,
   "metadata": {
    "collapsed": true
   },
   "outputs": [],
   "source": [
    "using DataStructures"
   ]
  },
  {
   "cell_type": "code",
   "execution_count": 55,
   "metadata": {
    "collapsed": false
   },
   "outputs": [],
   "source": [
    "colour_names = load_xkcd() |> keys |> collect\n"
   ]
  },
  {
   "cell_type": "code",
   "execution_count": 98,
   "metadata": {
    "collapsed": false
   },
   "outputs": [
    {
     "name": "stderr",
     "output_type": "stream",
     "text": [
      "WARNING: Method definition find_poc_(Any) in module Main at In[97]:6 overwritten at In[98]:16.\n",
      "WARNING: Method definition find_poc_(Any, Any) in module Main at In[97]:6 overwritten at In[98]:16.\n",
      "\u001b[1m\u001b[31mWARNING: replacing docs for 'find_poc_ :: Union{Tuple{Any,Any},Tuple{Any}}' in module 'Main'.\u001b[0m\n"
     ]
    },
    {
     "data": {
      "text/plain": [
       "find_poc_"
      ]
     },
     "execution_count": 98,
     "metadata": {},
     "output_type": "execute_result"
    }
   ],
   "source": [
    "\"\"\"\n",
    "Digests a set of raw color strings,\n",
    "and finds lists of the \"Parts Of Colors\" (poc), similar to Parts of speech (pos).\n",
    "These are\n",
    "\n",
    "- `base_colors`: Normal colors people use all the time, eg `red`, `green`, `tan`, `purple`\n",
    "- `generic_modifiers`: Adjectives that people apply to colors, `dark`, `pale` etc. Also includes (for POC tagging purposes) things like `greenish` and `bluey`. Though they should be parsed differently in next step \n",
    "- `nounish_colors`: Things that are not normally considered colors but use like them anyway (and don't thus normally occur with genric modifiers), eg `blood`, `puke`, `booger`\n",
    "- `nounish_modifiers`: Nouns that are attached to specific colors, that indicate a specific type of that color.  Eg grass as in \"grass green\", \"ghost\" as in \"ghost white\"\n",
    "- `conjunctives`: Words that go between two colors to join them. eg \"with\".\n",
    "\n",
    "In general be confidant on the identification of all `base_colors` and `generic_modifiers`,\n",
    "if capturing from a large number of `raw_color_names`\n",
    "Be less confidant of the indification of `nounish_colors` and `nounish_modifiers`\n",
    "have no confidance in the identifaction of `conjuctives, they are for debugging purposes\n",
    "\"\"\"\n",
    "function find_poc_(raw_color_names, nounish_cutoff = 2)\n",
    "    split_on = [' ','-','/']\n",
    "    first_color_words = first.(split.(raw_color_names, split_on))\n",
    "    last_color_words =  last.(split.(raw_color_names,  split_on))\n",
    "\n",
    "    first_color_counts = counter(first_color_words)\n",
    "    last_color_counts = counter(last_color_words)\n",
    "\n",
    "    base_colors = String[] #Generic colors\n",
    "    nounish_colors = String[] #Words that are used as colors but probable are not normally recognised as suc\n",
    "\n",
    "    modifiers = String[] #Adjectives that modify a color\n",
    "    nounish_modifiers = String[] #Noun parts that describe a paricular color, eg lawn ad in lawn green\n",
    "\n",
    "\n",
    "    for name in union(keys(first_color_words), keys(last_color_words))\n",
    "        fcount = first_color_counts[name] \n",
    "        lcount = last_color_counts[name]\n",
    "        if fcount  <= lcount \n",
    "            #including On a tie\n",
    "            if fcount <= nounish_cutoff\n",
    "                push!(nounish_colors, name)\n",
    "            else\n",
    "                push!(base_colors, name)\n",
    "            end\n",
    "        else\n",
    "            if fcount <= nounish_cutoff\n",
    "                push!(nounish_modifiers, name)\n",
    "            else\n",
    "                push!(modifiers, name)\n",
    "            end\n",
    "        end\n",
    "    end\n",
    "    \n",
    "    mid(x) =  length(x)>2 ? x[2:end-1]: []\n",
    "    middle_words = Base.flatten(mid.(split.(raw_color_names, split_on))) |> collect \n",
    "    conjuectives = setdiff(setdiff(middle_words, keys(first_color_words)),\n",
    "                    keys(last_color_words))\n",
    "    \n",
    "    base_colors, modifiers, nounish_colors, nounish_modifiers, conjuectives\n",
    "end"
   ]
  },
  {
   "cell_type": "code",
   "execution_count": 95,
   "metadata": {
    "collapsed": false
   },
   "outputs": [
    {
     "data": {
      "text/plain": [
       "1-element Array{SubString{String},1}:\n",
       " \"fire engine red\""
      ]
     },
     "execution_count": 95,
     "metadata": {},
     "output_type": "execute_result"
    }
   ],
   "source": [
    "filter(x->contains(x, \"engine\"), colour_names)"
   ]
  },
  {
   "cell_type": "code",
   "execution_count": null,
   "metadata": {
    "collapsed": true
   },
   "outputs": [],
   "source": []
  },
  {
   "cell_type": "code",
   "execution_count": null,
   "metadata": {
    "collapsed": false
   },
   "outputs": [],
   "source": []
  },
  {
   "cell_type": "code",
   "execution_count": 4,
   "metadata": {
    "collapsed": false
   },
   "outputs": [
    {
     "data": {
      "text/plain": [
       "@decsubnode (macro with 1 method)"
      ]
     },
     "execution_count": 4,
     "metadata": {},
     "output_type": "execute_result"
    }
   ],
   "source": [
    "# ==(n1::Node, n2::Node) = n1.val == n2.val\n",
    "\n",
    "macro decsubnode(name)\n",
    "    :(type $(esc(name)){S<:AbstractString}<:Node val::S end)\n",
    "end\n",
    "#@decsubnode BaseColorName\n",
    "#@decsubnode Modifier"
   ]
  },
  {
   "cell_type": "code",
   "execution_count": null,
   "metadata": {
    "collapsed": false
   },
   "outputs": [],
   "source": []
  },
  {
   "cell_type": "code",
   "execution_count": 5,
   "metadata": {
    "collapsed": false
   },
   "outputs": [],
   "source": [
    "using ParserCombinator\n",
    "\n",
    "abstract AbstractColorName\n",
    "\n",
    "@auto_hash_equals immutable BaseColorName{S<:AbstractString} <:AbstractColorName val::S end\n",
    "@auto_hash_equals immutable Modifier{S<:AbstractString} <:AbstractColorName val::S end\n",
    "@auto_hash_equals immutable BinaryOp{S<:AbstractString, V1<:AbstractColorName, V2<:AbstractColorName} <:AbstractColorName \n",
    "    val1::V1\n",
    "    op::S\n",
    "    val2::V2\n",
    "end\n",
    "\n",
    "@auto_hash_equals immutable ModifiedColor{S<:AbstractString, V<:AbstractColorName}<:AbstractColorName\n",
    "    mod::Modifier{S}\n",
    "    val::V\n",
    "     \n",
    "end"
   ]
  },
  {
   "cell_type": "code",
   "execution_count": 6,
   "metadata": {
    "collapsed": false
   },
   "outputs": [],
   "source": [
    "function AbstractTrees.children{T<:AbstractColorName}(v::T)\n",
    "    fnames = fieldnames(T)\n",
    "    getfield.([v], fnames)\n",
    "end\n",
    "\n",
    "function AbstractTrees.printnode{T<:AbstractColorName}(io::IO, ::T)\n",
    "    showcompact(io,T.name)\n",
    "end"
   ]
  },
  {
   "cell_type": "code",
   "execution_count": null,
   "metadata": {
    "collapsed": false
   },
   "outputs": [],
   "source": []
  },
  {
   "cell_type": "code",
   "execution_count": 73,
   "metadata": {
    "collapsed": false
   },
   "outputs": [
    {
     "data": {
      "text/plain": [
       "ParserCombinator.Seq(:Seq,ParserCombinator.Matcher[ParserCombinator.Delayed(:Delayed,ParserCombinator.Alt(:Alt,ParserCombinator.Matcher[ParserCombinator.Transform(:Transform,ParserCombinator.Alt(:Alt,ParserCombinator.Matcher[ParserCombinator.Equal(:Equal,\"red\"),ParserCombinator.Equal(:Equal,\"ice\"),ParserCombinator.Equal(:Equal,\"sea\"),ParserCombinator.Equal(:Equal,\"egg\"),ParserCombinator.Equal(:Equal,\"rod\"),ParserCombinator.Equal(:Equal,\"poo\"),ParserCombinator.Equal(:Equal,\"pea\"),ParserCombinator.Equal(:Equal,\"tan\"),ParserCombinator.Equal(:Equal,\"sky\"),ParserCombinator.Equal(:Equal,\"mud\")  …  ParserCombinator.Equal(:Equal,\"chartreuse\"),ParserCombinator.Equal(:Equal,\"watermelon\"),ParserCombinator.Equal(:Equal,\"periwinkle\"),ParserCombinator.Equal(:Equal,\"aquamarine\"),ParserCombinator.Equal(:Equal,\"grapefruit\"),ParserCombinator.Equal(:Equal,\"ultramarine\"),ParserCombinator.Equal(:Equal,\"wintergreen\"),ParserCombinator.Equal(:Equal,\"yellowgreen\"),ParserCombinator.Equal(:Equal,\"perrywinkle\"),ParserCombinator.Equal(:Equal,\"butterscotch\")]),ParserCombinator.#53),ParserCombinator.Transform(:Transform,ParserCombinator.Seq(:Seq,ParserCombinator.Matcher[ParserCombinator.Delayed(#= circular reference @-6 =#),ParserCombinator.Alt(:Alt,ParserCombinator.Matcher[ParserCombinator.Seq(:Seq,ParserCombinator.Matcher[ParserCombinator.Pattern(:Pattern,\"ish\",r\"^(?:ish)(.??)\",()),ParserCombinator.Drop(:Drop,ParserCombinator.Pattern(:Pattern,\"\\\\s+\",r\"^(?:\\s+)(.??)\",()))]),ParserCombinator.Pattern(:Pattern,\"/\",r\"^(?:/)(.??)\",()),ParserCombinator.Pattern(:Pattern,\" \",r\"^(?: )(.??)\",()),ParserCombinator.Pattern(:Pattern,\"-\",r\"^(?:-)(.??)\",()),ParserCombinator.Pattern(:Pattern,\"\",r\"^(?:)(.??)\",()),ParserCombinator.Seq(:Seq,ParserCombinator.Matcher[ParserCombinator.Pattern(:Pattern,\"y\",r\"^(?:y)(.??)\",()),ParserCombinator.Pattern(:Pattern,\"\\\\s+\",r\"^(?:\\s+)(.??)\",())])]),ParserCombinator.Delayed(#= circular reference @-6 =#)]),ParserCombinator.#53),ParserCombinator.Transform(:Transform,ParserCombinator.Seq(:Seq,ParserCombinator.Matcher[ParserCombinator.Transform(:Transform,ParserCombinator.Transform(:Transform,ParserCombinator.Breadth(:Breadth,ParserCombinator.Pattern(:Pattern,\"\\\\w\",r\"^(?:\\w)(.??)\",()),0,9223372036854775807,true),ParserCombinator.#50),ParserCombinator.#53),ParserCombinator.Drop(:Drop,ParserCombinator.Pattern(:Pattern,\"\\\\s+\",r\"^(?:\\s+)(.??)\",())),ParserCombinator.Delayed(#= circular reference @-6 =#)]),ParserCombinator.#53)])),ParserCombinator.Eos(:Eos)])"
      ]
     },
     "execution_count": 73,
     "metadata": {},
     "output_type": "execute_result"
    }
   ],
   "source": [
    "word = Repeat(p\"\\w\"; greedy=false) |> join #can't use regex `p\"\\w+\"` as it has no bactracking\n",
    "\n",
    "mod = word  > Modifier\n",
    "#name = Alt(Equal.([\"red\", \"green\", \"blue\"]) ... ) >  BaseColorName\n",
    "name = Alt(Equal.( base_colour_names) ... ) >  BaseColorName\n",
    "\n",
    "\n",
    "color = Delayed()\n",
    "\n",
    "modded = mod +  P\"\\s+\" + color > ModifiedColor\n",
    "\n",
    "binop = (e\" with a hint of \") | (e\"ish \") \n",
    "        | (e\"y \") | e\"/\" | e\" \" | e\"-\" | e\"\" \n",
    "\n",
    "binaryoped = color + binop + color > BinaryOp\n",
    "\n",
    "color.matcher = name | binaryoped | modded\n",
    "\n",
    "colorgrammar = color +Eos()\n",
    "\n",
    "#parse_one(\"red blue\", colordec)   #Hangs forever"
   ]
  },
  {
   "cell_type": "code",
   "execution_count": 8,
   "metadata": {
    "collapsed": false
   },
   "outputs": [
    {
     "data": {
      "text/plain": [
       "\u001b[1m\u001b[32mTest Passed\n",
       "\u001b[0m  Expression: parse_one(\"redish blue\",colorgrammar) |> first == BinaryOp(BaseColorName(\"red\"),\"ish\",BaseColorName(\"blue\"))\n",
       "   Evaluated: BinaryOp{SubString{String},BaseColorName{SubString{String}},BaseColorName{SubString{String}}}(BaseColorName{SubString{String}}(\"red\"),\"ish\",BaseColorName{SubString{String}}(\"blue\")) == BinaryOp{String,BaseColorName{String},BaseColorName{String}}(BaseColorName{String}(\"red\"),\"ish\",BaseColorName{String}(\"blue\"))"
      ]
     },
     "execution_count": 8,
     "metadata": {},
     "output_type": "execute_result"
    }
   ],
   "source": [
    "using Base.Test\n",
    "@test parse_one(\"blue\", colorgrammar) |> first == BaseColorName{String}(\"blue\")\n",
    "\n",
    "@test parse_one(\"redish blue\", colorgrammar) |> first == BinaryOp(BaseColorName(\"red\"),\"ish\",BaseColorName(\"blue\"))"
   ]
  },
  {
   "cell_type": "code",
   "execution_count": 15,
   "metadata": {
    "collapsed": false
   },
   "outputs": [
    {
     "data": {
      "text/plain": [
       "1-element Array{Any,1}:\n",
       " BinaryOp{SubString{String},BaseColorName{SubString{String}},BinaryOp{SubString{String},BaseColorName{SubString{String}},BinaryOp{SubString{String},BaseColorName{SubString{String}},BinaryOp{SubString{String},BaseColorName{SubString{String}},BaseColorName{SubString{String}}}}}}(BaseColorName{SubString{String}}(\"red\"),\"ish\",BinaryOp{SubString{String},BaseColorName{SubString{String}},BinaryOp{SubString{String},BaseColorName{SubString{String}},BinaryOp{SubString{String},BaseColorName{SubString{String}},BaseColorName{SubString{String}}}}}(BaseColorName{SubString{String}}(\"blue\"),\"ish\",BinaryOp{SubString{String},BaseColorName{SubString{String}},BinaryOp{SubString{String},BaseColorName{SubString{String}},BaseColorName{SubString{String}}}}(BaseColorName{SubString{String}}(\"dark\"),\" \",BinaryOp{SubString{String},BaseColorName{SubString{String}},BaseColorName{SubString{String}}}(BaseColorName{SubString{String}}(\"green\"),\"-\",BaseColorName{SubString{String}}(\"red\")))))"
      ]
     },
     "execution_count": 15,
     "metadata": {},
     "output_type": "execute_result"
    }
   ],
   "source": [
    "t=parse_one(\"redish blueish dark green-red\", colorgrammar)"
   ]
  },
  {
   "cell_type": "code",
   "execution_count": 16,
   "metadata": {
    "collapsed": false
   },
   "outputs": [
    {
     "name": "stdout",
     "output_type": "stream",
     "text": [
      "Any[BinaryOp{SubString{String},BaseColorName{SubString{String}},BinaryOp{SubString{String},BaseColorName{SubString{String}},BinaryOp{SubString{String},BaseColorName{SubString{String}},BinaryOp{SubString{String},BaseColorName{SubString{String}},BaseColorName{SubString{String}}}}}}(BaseColorName{SubString{String}}(\"red\"),\"ish\",BinaryOp{SubString{String},BaseColorName{SubString{String}},BinaryOp{SubString{String},BaseColorName{SubString{String}},BinaryOp{SubString{String},BaseColorName{SubString{String}},BaseColorName{SubString{String}}}}}(BaseColorName{SubString{String}}(\"blue\"),\"ish\",BinaryOp{SubString{String},BaseColorName{SubString{String}},BinaryOp{SubString{String},BaseColorName{SubString{String}},BaseColorName{SubString{String}}}}(BaseColorName{SubString{String}}(\"dark\"),\" \",BinaryOp{SubString{String},BaseColorName{SubString{String}},BaseColorName{SubString{String}}}(BaseColorName{SubString{String}}(\"green\"),\"-\",BaseColorName{SubString{String}}(\"red\")))))]\n",
      "└─ BinaryOp\n",
      "   ├─ BaseColorName\n",
      "   │  └─ \"red\"\n",
      "   ├─ \"ish\"\n",
      "   └─ BinaryOp\n",
      "      ├─ BaseColorName\n",
      "      │  └─ \"blue\"\n",
      "      ├─ \"ish\"\n",
      "      └─ BinaryOp\n",
      "         ├─ BaseColorName\n",
      "         │  └─ \"dark\"\n",
      "         ├─ \" \"\n",
      "         └─ BinaryOp\n",
      "            ├─ BaseColorName\n",
      "            │  └─ \"green\"\n",
      "            ├─ \"-\"\n",
      "            └─ BaseColorName\n",
      "               └─ \"red\"\n"
     ]
    }
   ],
   "source": [
    "print_tree(STDOUT, t)"
   ]
  },
  {
   "cell_type": "code",
   "execution_count": 17,
   "metadata": {
    "collapsed": false
   },
   "outputs": [
    {
     "name": "stdout",
     "output_type": "stream",
     "text": [
      "search: \u001b[1mp\u001b[22m\u001b[1mr\u001b[22m\u001b[1mi\u001b[22m\u001b[1mn\u001b[22m\u001b[1mt\u001b[22m\u001b[1m_\u001b[22m\u001b[1mt\u001b[22m\u001b[1mr\u001b[22m\u001b[1me\u001b[22m\u001b[1me\u001b[22m \u001b[1mp\u001b[22m\u001b[1mr\u001b[22m\u001b[1mi\u001b[22m\u001b[1mn\u001b[22m\u001b[1mt\u001b[22m\u001b[1m_\u001b[22mwi\u001b[1mt\u001b[22mh_colo\u001b[1mr\u001b[22m \u001b[1mp\u001b[22m\u001b[1mr\u001b[22m\u001b[1mi\u001b[22m\u001b[1mn\u001b[22m\u001b[1mt\u001b[22m\u001b[1m_\u001b[22mshor\u001b[1mt\u001b[22mest\n",
      "\n"
     ]
    },
    {
     "data": {
      "text/markdown": [
       "No documentation found.\n",
       "\n",
       "`AbstractTrees.print_tree` is a `Function`.\n",
       "\n",
       "```\n",
       "# 2 methods for generic function \"print_tree\":\n",
       "print_tree(f::Function, io::IO, tree, args...; kwargs...) at /home/ubuntu/.julia/v0.5/AbstractTrees/src/AbstractTrees.jl:150\n",
       "print_tree(io::IO, tree, args...; kwargs...) at /home/ubuntu/.julia/v0.5/AbstractTrees/src/AbstractTrees.jl:151\n",
       "```\n"
      ],
      "text/plain": [
       "No documentation found.\n",
       "\n",
       "`AbstractTrees.print_tree` is a `Function`.\n",
       "\n",
       "```\n",
       "# 2 methods for generic function \"print_tree\":\n",
       "print_tree(f::Function, io::IO, tree, args...; kwargs...) at /home/ubuntu/.julia/v0.5/AbstractTrees/src/AbstractTrees.jl:150\n",
       "print_tree(io::IO, tree, args...; kwargs...) at /home/ubuntu/.julia/v0.5/AbstractTrees/src/AbstractTrees.jl:151\n",
       "```\n"
      ]
     },
     "execution_count": 17,
     "metadata": {},
     "output_type": "execute_result"
    }
   ],
   "source": [
    "?print_tree"
   ]
  },
  {
   "cell_type": "code",
   "execution_count": 12,
   "metadata": {
    "collapsed": false
   },
   "outputs": [
    {
     "data": {
      "text/plain": [
       "1-element Array{String,1}:\n",
       " \"red\""
      ]
     },
     "execution_count": 12,
     "metadata": {},
     "output_type": "execute_result"
    }
   ],
   "source": [
    "children(BaseColorName(\"red\"))"
   ]
  },
  {
   "cell_type": "code",
   "execution_count": 13,
   "metadata": {
    "collapsed": false
   },
   "outputs": [
    {
     "data": {
      "text/plain": [
       "BinaryOp{SubString{String},BaseColorName{SubString{String}},BinaryOp{SubString{String},BaseColorName{SubString{String}},BinaryOp{SubString{String},BaseColorName{SubString{String}},BaseColorName{SubString{String}}}}}"
      ]
     },
     "execution_count": 13,
     "metadata": {},
     "output_type": "execute_result"
    }
   ],
   "source": [
    "T = typeof(t[1])"
   ]
  },
  {
   "cell_type": "code",
   "execution_count": 14,
   "metadata": {
    "collapsed": false
   },
   "outputs": [
    {
     "data": {
      "text/plain": [
       "BinaryOp"
      ]
     },
     "execution_count": 14,
     "metadata": {},
     "output_type": "execute_result"
    }
   ],
   "source": [
    "T.name"
   ]
  },
  {
   "cell_type": "code",
   "execution_count": null,
   "metadata": {
    "collapsed": true
   },
   "outputs": [],
   "source": []
  }
 ],
 "metadata": {
  "kernelspec": {
   "display_name": "Julia 0.5.0",
   "language": "julia",
   "name": "julia-0.5"
  },
  "language_info": {
   "file_extension": ".jl",
   "mimetype": "application/julia",
   "name": "julia",
   "version": "0.5.0"
  }
 },
 "nbformat": 4,
 "nbformat_minor": 0
}
